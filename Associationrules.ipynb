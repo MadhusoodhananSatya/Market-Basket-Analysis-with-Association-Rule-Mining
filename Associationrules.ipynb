{
 "cells": [
  {
   "cell_type": "code",
   "execution_count": 154,
   "id": "74caa0f5-1383-4687-b216-25b346d92da5",
   "metadata": {},
   "outputs": [
    {
     "name": "stdout",
     "output_type": "stream",
     "text": [
      "Requirement already satisfied: apyori in c:\\users\\madhu\\anaconda3\\lib\\site-packages (1.1.2)\n",
      "Note: you may need to restart the kernel to use updated packages.\n"
     ]
    }
   ],
   "source": [
    "pip install apyori"
   ]
  },
  {
   "cell_type": "markdown",
   "id": "29ff0e06-1d6a-482e-ae55-7ee57b16ecb4",
   "metadata": {},
   "source": [
    "###  Setup and Data Loading\n",
    "\n",
    "This section sets up the Python environment for our analysis. We install `apyori` to find association rules and import key libraries like `pandas` for data handling and `matplotlib` for plotting.\n",
    "\n",
    "The `marketbasket.csv` file is then loaded into a pandas DataFrame called `store_data`, and we display the first 5 rows to ensure everything is ready to go."
   ]
  },
  {
   "cell_type": "code",
   "execution_count": 222,
   "id": "92bd22ce-37c4-4097-8e3b-a923a8c0e5e3",
   "metadata": {},
   "outputs": [],
   "source": [
    "import matplotlib.pyplot as plt\n",
    "import pandas as pd\n",
    "from apyori import apriori\n",
    "import ARutils\n",
    "%matplotlib inline"
   ]
  },
  {
   "cell_type": "code",
   "execution_count": 156,
   "id": "ddbfbd11-b5e7-4090-a45d-f7d467bbca9c",
   "metadata": {},
   "outputs": [],
   "source": [
    "store_data=pd.read_csv(\"marketbasket.csv\")"
   ]
  },
  {
   "cell_type": "code",
   "execution_count": 157,
   "id": "57426d88-70dc-4a10-864a-d73b7b1d569b",
   "metadata": {},
   "outputs": [
    {
     "data": {
      "text/html": [
       "<div>\n",
       "<style scoped>\n",
       "    .dataframe tbody tr th:only-of-type {\n",
       "        vertical-align: middle;\n",
       "    }\n",
       "\n",
       "    .dataframe tbody tr th {\n",
       "        vertical-align: top;\n",
       "    }\n",
       "\n",
       "    .dataframe thead th {\n",
       "        text-align: right;\n",
       "    }\n",
       "</style>\n",
       "<table border=\"1\" class=\"dataframe\">\n",
       "  <thead>\n",
       "    <tr style=\"text-align: right;\">\n",
       "      <th></th>\n",
       "      <th>apples</th>\n",
       "      <th>banana</th>\n",
       "      <th>coke</th>\n",
       "      <th>turkey</th>\n",
       "      <th>bourbon</th>\n",
       "      <th>ice_cream</th>\n",
       "      <th>baguette</th>\n",
       "      <th>soda</th>\n",
       "      <th>choclate</th>\n",
       "      <th>cracker</th>\n",
       "      <th>cosmetics</th>\n",
       "      <th>avocado</th>\n",
       "      <th>artichoke</th>\n",
       "      <th>sardines</th>\n",
       "    </tr>\n",
       "  </thead>\n",
       "  <tbody>\n",
       "    <tr>\n",
       "      <th>0</th>\n",
       "      <td>No</td>\n",
       "      <td>Yes</td>\n",
       "      <td>Yes</td>\n",
       "      <td>Yes</td>\n",
       "      <td>Yes</td>\n",
       "      <td>No</td>\n",
       "      <td>Yes</td>\n",
       "      <td>Yes</td>\n",
       "      <td>Yes</td>\n",
       "      <td>No</td>\n",
       "      <td>No</td>\n",
       "      <td>No</td>\n",
       "      <td>No</td>\n",
       "      <td>Yes</td>\n",
       "    </tr>\n",
       "    <tr>\n",
       "      <th>1</th>\n",
       "      <td>No</td>\n",
       "      <td>No</td>\n",
       "      <td>Yes</td>\n",
       "      <td>No</td>\n",
       "      <td>Yes</td>\n",
       "      <td>No</td>\n",
       "      <td>Yes</td>\n",
       "      <td>Yes</td>\n",
       "      <td>No</td>\n",
       "      <td>No</td>\n",
       "      <td>Yes</td>\n",
       "      <td>Yes</td>\n",
       "      <td>No</td>\n",
       "      <td>No</td>\n",
       "    </tr>\n",
       "    <tr>\n",
       "      <th>2</th>\n",
       "      <td>No</td>\n",
       "      <td>Yes</td>\n",
       "      <td>No</td>\n",
       "      <td>No</td>\n",
       "      <td>Yes</td>\n",
       "      <td>Yes</td>\n",
       "      <td>Yes</td>\n",
       "      <td>Yes</td>\n",
       "      <td>Yes</td>\n",
       "      <td>Yes</td>\n",
       "      <td>Yes</td>\n",
       "      <td>Yes</td>\n",
       "      <td>Yes</td>\n",
       "      <td>No</td>\n",
       "    </tr>\n",
       "    <tr>\n",
       "      <th>3</th>\n",
       "      <td>No</td>\n",
       "      <td>No</td>\n",
       "      <td>Yes</td>\n",
       "      <td>Yes</td>\n",
       "      <td>Yes</td>\n",
       "      <td>No</td>\n",
       "      <td>Yes</td>\n",
       "      <td>No</td>\n",
       "      <td>No</td>\n",
       "      <td>No</td>\n",
       "      <td>Yes</td>\n",
       "      <td>No</td>\n",
       "      <td>No</td>\n",
       "      <td>Yes</td>\n",
       "    </tr>\n",
       "    <tr>\n",
       "      <th>4</th>\n",
       "      <td>No</td>\n",
       "      <td>Yes</td>\n",
       "      <td>No</td>\n",
       "      <td>No</td>\n",
       "      <td>Yes</td>\n",
       "      <td>No</td>\n",
       "      <td>Yes</td>\n",
       "      <td>Yes</td>\n",
       "      <td>Yes</td>\n",
       "      <td>Yes</td>\n",
       "      <td>No</td>\n",
       "      <td>Yes</td>\n",
       "      <td>Yes</td>\n",
       "      <td>No</td>\n",
       "    </tr>\n",
       "  </tbody>\n",
       "</table>\n",
       "</div>"
      ],
      "text/plain": [
       "  apples banana coke turkey bourbon ice_cream baguette soda choclate cracker  \\\n",
       "0     No    Yes  Yes    Yes     Yes        No      Yes  Yes      Yes      No   \n",
       "1     No     No  Yes     No     Yes        No      Yes  Yes       No      No   \n",
       "2     No    Yes   No     No     Yes       Yes      Yes  Yes      Yes     Yes   \n",
       "3     No     No  Yes    Yes     Yes        No      Yes   No       No      No   \n",
       "4     No    Yes   No     No     Yes        No      Yes  Yes      Yes     Yes   \n",
       "\n",
       "  cosmetics avocado artichoke sardines  \n",
       "0        No      No        No      Yes  \n",
       "1       Yes     Yes        No       No  \n",
       "2       Yes     Yes       Yes       No  \n",
       "3       Yes      No        No      Yes  \n",
       "4        No     Yes       Yes       No  "
      ]
     },
     "execution_count": 157,
     "metadata": {},
     "output_type": "execute_result"
    }
   ],
   "source": [
    "store_data.head()"
   ]
  },
  {
   "cell_type": "markdown",
   "id": "25296768-34fe-49a3-8aea-c5c1c7fc1152",
   "metadata": {},
   "source": [
    "### **2. Data Exploration and Preparation**"
   ]
  },
  {
   "cell_type": "code",
   "execution_count": 225,
   "id": "d2a717a1-b59b-444b-82a6-1b006bb3d5af",
   "metadata": {},
   "outputs": [
    {
     "name": "stdout",
     "output_type": "stream",
     "text": [
      "Missing values per column:\n",
      "apples       0\n",
      "banana       0\n",
      "coke         0\n",
      "turkey       0\n",
      "bourbon      0\n",
      "ice_cream    0\n",
      "baguette     0\n",
      "soda         0\n",
      "choclate     0\n",
      "cracker      0\n",
      "cosmetics    0\n",
      "avocado      0\n",
      "artichoke    0\n",
      "sardines     0\n",
      "dtype: int64\n",
      "\n",
      "\n",
      "Total Transactions: 1000\n",
      "Example transactions:\n",
      "[['banana', 'coke', 'turkey', 'bourbon', 'baguette', 'soda', 'choclate', 'sardines'], ['coke', 'bourbon', 'baguette', 'soda', 'cosmetics', 'avocado'], ['banana', 'bourbon', 'ice_cream', 'baguette', 'soda', 'choclate', 'cracker', 'cosmetics', 'avocado', 'artichoke'], ['coke', 'turkey', 'bourbon', 'baguette', 'cosmetics', 'sardines'], ['banana', 'bourbon', 'baguette', 'soda', 'choclate', 'cracker', 'avocado', 'artichoke']]\n"
     ]
    }
   ],
   "source": [
    "# Check for any missing values\n",
    "print(\"Missing values per column:\")\n",
    "print(store_data.isnull().sum())\n",
    "print(\"\\n\")\n",
    "\n",
    "# Prepare data for the Apriori algorithm\n",
    "# The algorithm requires a list of lists, where each inner list is a transaction.\n",
    "transactions = []\n",
    "for i in range(len(store_data)):\n",
    "    transactions.append([item for item, purchased in store_data.iloc[i].items() if purchased == 'Yes'])\n",
    "\n",
    "print(f\"Total Transactions: {len(transactions)}\")\n",
    "print(\"Example transactions:\")\n",
    "print(transactions[:5])"
   ]
  },
  {
   "cell_type": "code",
   "execution_count": 158,
   "id": "87be49dc-a496-434a-8053-4e0b592e0419",
   "metadata": {},
   "outputs": [
    {
     "name": "stdout",
     "output_type": "stream",
     "text": [
      "Transactions: 1000 | Avg items per tx: 1.00\n"
     ]
    }
   ],
   "source": [
    "from ast import literal_eval\n",
    "\n",
    "# If CSV has one column of transactions\n",
    "col = store_data.columns[0]\n",
    "\n",
    "def parse_tx(x):\n",
    "    try:\n",
    "        if str(x).strip().startswith('['):\n",
    "            return [i.strip().strip(\"'\\\"\") for i in literal_eval(str(x))]\n",
    "        else:\n",
    "            return [i.strip() for i in str(x).split(',') if i.strip()]\n",
    "    except Exception:\n",
    "        return [i.strip() for i in str(x).split(',') if i.strip()]\n",
    "\n",
    "transactions = store_data[col].fillna('').map(parse_tx).tolist()\n",
    "\n",
    "# Clean up items\n",
    "def clean_item(it):\n",
    "    return str(it).lower().strip()\n",
    "\n",
    "transactions = [[clean_item(i) for i in tx if i and str(i).strip()] for tx in transactions]\n",
    "\n",
    "print(f\"Transactions: {len(transactions)} | Avg items per tx: {sum(len(tx) for tx in transactions)/len(transactions):.2f}\")\n"
   ]
  },
  {
   "cell_type": "code",
   "execution_count": 159,
   "id": "cb23f296-aa98-4ed0-8066-8315d8db9254",
   "metadata": {},
   "outputs": [
    {
     "data": {
      "text/html": [
       "<div>\n",
       "<style scoped>\n",
       "    .dataframe tbody tr th:only-of-type {\n",
       "        vertical-align: middle;\n",
       "    }\n",
       "\n",
       "    .dataframe tbody tr th {\n",
       "        vertical-align: top;\n",
       "    }\n",
       "\n",
       "    .dataframe thead th {\n",
       "        text-align: right;\n",
       "    }\n",
       "</style>\n",
       "<table border=\"1\" class=\"dataframe\">\n",
       "  <thead>\n",
       "    <tr style=\"text-align: right;\">\n",
       "      <th></th>\n",
       "      <th>apples</th>\n",
       "      <th>banana</th>\n",
       "      <th>coke</th>\n",
       "      <th>turkey</th>\n",
       "      <th>bourbon</th>\n",
       "      <th>ice_cream</th>\n",
       "      <th>baguette</th>\n",
       "      <th>soda</th>\n",
       "      <th>choclate</th>\n",
       "      <th>cracker</th>\n",
       "      <th>cosmetics</th>\n",
       "      <th>avocado</th>\n",
       "      <th>artichoke</th>\n",
       "      <th>sardines</th>\n",
       "    </tr>\n",
       "  </thead>\n",
       "  <tbody>\n",
       "    <tr>\n",
       "      <th>995</th>\n",
       "      <td>No</td>\n",
       "      <td>No</td>\n",
       "      <td>No</td>\n",
       "      <td>No</td>\n",
       "      <td>No</td>\n",
       "      <td>No</td>\n",
       "      <td>No</td>\n",
       "      <td>No</td>\n",
       "      <td>No</td>\n",
       "      <td>No</td>\n",
       "      <td>No</td>\n",
       "      <td>No</td>\n",
       "      <td>No</td>\n",
       "      <td>No</td>\n",
       "    </tr>\n",
       "    <tr>\n",
       "      <th>996</th>\n",
       "      <td>No</td>\n",
       "      <td>No</td>\n",
       "      <td>No</td>\n",
       "      <td>No</td>\n",
       "      <td>No</td>\n",
       "      <td>No</td>\n",
       "      <td>No</td>\n",
       "      <td>No</td>\n",
       "      <td>No</td>\n",
       "      <td>No</td>\n",
       "      <td>Yes</td>\n",
       "      <td>Yes</td>\n",
       "      <td>No</td>\n",
       "      <td>No</td>\n",
       "    </tr>\n",
       "    <tr>\n",
       "      <th>997</th>\n",
       "      <td>No</td>\n",
       "      <td>Yes</td>\n",
       "      <td>Yes</td>\n",
       "      <td>Yes</td>\n",
       "      <td>Yes</td>\n",
       "      <td>No</td>\n",
       "      <td>No</td>\n",
       "      <td>Yes</td>\n",
       "      <td>No</td>\n",
       "      <td>No</td>\n",
       "      <td>Yes</td>\n",
       "      <td>No</td>\n",
       "      <td>Yes</td>\n",
       "      <td>Yes</td>\n",
       "    </tr>\n",
       "    <tr>\n",
       "      <th>998</th>\n",
       "      <td>Yes</td>\n",
       "      <td>Yes</td>\n",
       "      <td>No</td>\n",
       "      <td>No</td>\n",
       "      <td>Yes</td>\n",
       "      <td>No</td>\n",
       "      <td>No</td>\n",
       "      <td>No</td>\n",
       "      <td>Yes</td>\n",
       "      <td>Yes</td>\n",
       "      <td>No</td>\n",
       "      <td>No</td>\n",
       "      <td>Yes</td>\n",
       "      <td>Yes</td>\n",
       "    </tr>\n",
       "    <tr>\n",
       "      <th>999</th>\n",
       "      <td>No</td>\n",
       "      <td>No</td>\n",
       "      <td>No</td>\n",
       "      <td>No</td>\n",
       "      <td>Yes</td>\n",
       "      <td>No</td>\n",
       "      <td>Yes</td>\n",
       "      <td>Yes</td>\n",
       "      <td>No</td>\n",
       "      <td>Yes</td>\n",
       "      <td>No</td>\n",
       "      <td>No</td>\n",
       "      <td>No</td>\n",
       "      <td>Yes</td>\n",
       "    </tr>\n",
       "  </tbody>\n",
       "</table>\n",
       "</div>"
      ],
      "text/plain": [
       "    apples banana coke turkey bourbon ice_cream baguette soda choclate  \\\n",
       "995     No     No   No     No      No        No       No   No       No   \n",
       "996     No     No   No     No      No        No       No   No       No   \n",
       "997     No    Yes  Yes    Yes     Yes        No       No  Yes       No   \n",
       "998    Yes    Yes   No     No     Yes        No       No   No      Yes   \n",
       "999     No     No   No     No     Yes        No      Yes  Yes       No   \n",
       "\n",
       "    cracker cosmetics avocado artichoke sardines  \n",
       "995      No        No      No        No       No  \n",
       "996      No       Yes     Yes        No       No  \n",
       "997      No       Yes      No       Yes      Yes  \n",
       "998     Yes        No      No       Yes      Yes  \n",
       "999     Yes        No      No        No      Yes  "
      ]
     },
     "execution_count": 159,
     "metadata": {},
     "output_type": "execute_result"
    }
   ],
   "source": [
    "store_data.tail()\n"
   ]
  },
  {
   "cell_type": "code",
   "execution_count": 160,
   "id": "e9f7ab43-207e-466b-8be4-6423450f039f",
   "metadata": {},
   "outputs": [
    {
     "data": {
      "text/html": [
       "<div>\n",
       "<style scoped>\n",
       "    .dataframe tbody tr th:only-of-type {\n",
       "        vertical-align: middle;\n",
       "    }\n",
       "\n",
       "    .dataframe tbody tr th {\n",
       "        vertical-align: top;\n",
       "    }\n",
       "\n",
       "    .dataframe thead th {\n",
       "        text-align: right;\n",
       "    }\n",
       "</style>\n",
       "<table border=\"1\" class=\"dataframe\">\n",
       "  <thead>\n",
       "    <tr style=\"text-align: right;\">\n",
       "      <th></th>\n",
       "      <th>apples</th>\n",
       "      <th>banana</th>\n",
       "      <th>coke</th>\n",
       "      <th>turkey</th>\n",
       "      <th>bourbon</th>\n",
       "      <th>ice_cream</th>\n",
       "      <th>baguette</th>\n",
       "      <th>soda</th>\n",
       "      <th>choclate</th>\n",
       "      <th>cracker</th>\n",
       "      <th>cosmetics</th>\n",
       "      <th>avocado</th>\n",
       "      <th>artichoke</th>\n",
       "      <th>sardines</th>\n",
       "    </tr>\n",
       "  </thead>\n",
       "  <tbody>\n",
       "    <tr>\n",
       "      <th>count</th>\n",
       "      <td>1000</td>\n",
       "      <td>1000</td>\n",
       "      <td>1000</td>\n",
       "      <td>1000</td>\n",
       "      <td>1000</td>\n",
       "      <td>1000</td>\n",
       "      <td>1000</td>\n",
       "      <td>1000</td>\n",
       "      <td>1000</td>\n",
       "      <td>1000</td>\n",
       "      <td>1000</td>\n",
       "      <td>1000</td>\n",
       "      <td>1000</td>\n",
       "      <td>1000</td>\n",
       "    </tr>\n",
       "    <tr>\n",
       "      <th>unique</th>\n",
       "      <td>2</td>\n",
       "      <td>2</td>\n",
       "      <td>2</td>\n",
       "      <td>2</td>\n",
       "      <td>2</td>\n",
       "      <td>2</td>\n",
       "      <td>2</td>\n",
       "      <td>2</td>\n",
       "      <td>2</td>\n",
       "      <td>2</td>\n",
       "      <td>2</td>\n",
       "      <td>2</td>\n",
       "      <td>2</td>\n",
       "      <td>2</td>\n",
       "    </tr>\n",
       "    <tr>\n",
       "      <th>top</th>\n",
       "      <td>No</td>\n",
       "      <td>No</td>\n",
       "      <td>No</td>\n",
       "      <td>No</td>\n",
       "      <td>No</td>\n",
       "      <td>No</td>\n",
       "      <td>No</td>\n",
       "      <td>No</td>\n",
       "      <td>No</td>\n",
       "      <td>No</td>\n",
       "      <td>Yes</td>\n",
       "      <td>No</td>\n",
       "      <td>No</td>\n",
       "      <td>No</td>\n",
       "    </tr>\n",
       "    <tr>\n",
       "      <th>freq</th>\n",
       "      <td>946</td>\n",
       "      <td>637</td>\n",
       "      <td>720</td>\n",
       "      <td>851</td>\n",
       "      <td>558</td>\n",
       "      <td>958</td>\n",
       "      <td>721</td>\n",
       "      <td>766</td>\n",
       "      <td>643</td>\n",
       "      <td>619</td>\n",
       "      <td>536</td>\n",
       "      <td>510</td>\n",
       "      <td>678</td>\n",
       "      <td>543</td>\n",
       "    </tr>\n",
       "  </tbody>\n",
       "</table>\n",
       "</div>"
      ],
      "text/plain": [
       "       apples banana  coke turkey bourbon ice_cream baguette  soda choclate  \\\n",
       "count    1000   1000  1000   1000    1000      1000     1000  1000     1000   \n",
       "unique      2      2     2      2       2         2        2     2        2   \n",
       "top        No     No    No     No      No        No       No    No       No   \n",
       "freq      946    637   720    851     558       958      721   766      643   \n",
       "\n",
       "       cracker cosmetics avocado artichoke sardines  \n",
       "count     1000      1000    1000      1000     1000  \n",
       "unique       2         2       2         2        2  \n",
       "top         No       Yes      No        No       No  \n",
       "freq       619       536     510       678      543  "
      ]
     },
     "execution_count": 160,
     "metadata": {},
     "output_type": "execute_result"
    }
   ],
   "source": [
    "store_data.describe()"
   ]
  },
  {
   "cell_type": "raw",
   "id": "950b1c86-e1f9-46f1-81f9-b51bc9875b85",
   "metadata": {},
   "source": [
    "store_data.plot.bar()"
   ]
  },
  {
   "cell_type": "markdown",
   "id": "a1a7995a-a4be-495e-ae62-51063bb4c56b",
   "metadata": {},
   "source": [
    "### **3. Item Distribution Plot**"
   ]
  },
  {
   "cell_type": "code",
   "execution_count": 161,
   "id": "8c18b4d4-16d3-4e54-afad-ba71ad9f9fe0",
   "metadata": {},
   "outputs": [
    {
     "data": {
      "image/png": "[encoded data removed]",
      "text/plain": [
       "<Figure size 1500x800 with 1 Axes>"
      ]
     },
     "metadata": {},
     "output_type": "display_data"
    }
   ],
   "source": [
    "item_counts = {}\n",
    "for column in store_data.columns:\n",
    "    yes_count = (store_data[column] == 'Yes').sum()\n",
    "    no_count = (store_data[column] == 'No').sum()\n",
    "    item_counts[column] = {'Yes': yes_count, 'No': no_count}\n",
    "\n",
    "counts_df = pd.DataFrame(item_counts).T\n",
    "\n",
    "counts_df.plot(kind='bar', stacked=True, figsize=(15, 8), color=['skyblue', 'lightcoral'])\n",
    "\n",
    "plt.title('Distribution of Purchased vs. Non-Purchased Items', fontsize=16)\n",
    "plt.xlabel('Item', fontsize=12)\n",
    "plt.ylabel('Number of Transactions', fontsize=12)\n",
    "plt.xticks(rotation=45, ha='right', fontsize=10)\n",
    "plt.legend(title='Purchased', labels=['Yes', 'No'], fontsize=10)\n",
    "plt.tight_layout()\n",
    "plt.grid(axis='y', linestyle='--', alpha=0.7)\n",
    "plt.show()"
   ]
  },
  {
   "cell_type": "code",
   "execution_count": 162,
   "id": "a0528247-5bf6-4b40-b596-1ef0481bd96f",
   "metadata": {},
   "outputs": [
    {
     "data": {
      "text/plain": [
       "[['Milk', 'Bread', 'Saffron'],\n",
       " ['Milk', 'Saffron'],\n",
       " ['Bread', 'Saffron', 'Wafer'],\n",
       " ['Bread', 'Wafer']]"
      ]
     },
     "execution_count": 162,
     "metadata": {},
     "output_type": "execute_result"
    }
   ],
   "source": [
    "transcations=[\n",
    "    ['Milk','Bread','Saffron'],\n",
    "    ['Milk','Saffron'],\n",
    "    [\"Bread\",\"Saffron\",\"Wafer\"],\n",
    "    [\"Bread\",'Wafer'],\n",
    "]\n",
    "transcations\n",
    "        "
   ]
  },
  {
   "cell_type": "code",
   "execution_count": 163,
   "id": "1c7b0f41-87aa-4ecd-aeae-b67e16f6c846",
   "metadata": {},
   "outputs": [],
   "source": [
    "Rules=list(apriori(transcations,min_support=0.4,min_confidence=0.4))"
   ]
  },
  {
   "cell_type": "code",
   "execution_count": 164,
   "id": "17629dba-407e-49f6-8845-46e8896db90c",
   "metadata": {},
   "outputs": [
    {
     "data": {
      "text/html": [
       "<div>\n",
       "<style scoped>\n",
       "    .dataframe tbody tr th:only-of-type {\n",
       "        vertical-align: middle;\n",
       "    }\n",
       "\n",
       "    .dataframe tbody tr th {\n",
       "        vertical-align: top;\n",
       "    }\n",
       "\n",
       "    .dataframe thead th {\n",
       "        text-align: right;\n",
       "    }\n",
       "</style>\n",
       "<table border=\"1\" class=\"dataframe\">\n",
       "  <thead>\n",
       "    <tr style=\"text-align: right;\">\n",
       "      <th></th>\n",
       "      <th>LHS</th>\n",
       "      <th>RHS</th>\n",
       "      <th>Support</th>\n",
       "      <th>Confidence</th>\n",
       "      <th>Lift</th>\n",
       "    </tr>\n",
       "  </thead>\n",
       "  <tbody>\n",
       "    <tr>\n",
       "      <th>0</th>\n",
       "      <td>[]</td>\n",
       "      <td>[Bread]</td>\n",
       "      <td>0.75</td>\n",
       "      <td>0.750000</td>\n",
       "      <td>1.000000</td>\n",
       "    </tr>\n",
       "    <tr>\n",
       "      <th>1</th>\n",
       "      <td>[]</td>\n",
       "      <td>[Milk]</td>\n",
       "      <td>0.50</td>\n",
       "      <td>0.500000</td>\n",
       "      <td>1.000000</td>\n",
       "    </tr>\n",
       "    <tr>\n",
       "      <th>2</th>\n",
       "      <td>[]</td>\n",
       "      <td>[Saffron]</td>\n",
       "      <td>0.75</td>\n",
       "      <td>0.750000</td>\n",
       "      <td>1.000000</td>\n",
       "    </tr>\n",
       "    <tr>\n",
       "      <th>3</th>\n",
       "      <td>[]</td>\n",
       "      <td>[Wafer]</td>\n",
       "      <td>0.50</td>\n",
       "      <td>0.500000</td>\n",
       "      <td>1.000000</td>\n",
       "    </tr>\n",
       "    <tr>\n",
       "      <th>4</th>\n",
       "      <td>[]</td>\n",
       "      <td>[Bread, Saffron]</td>\n",
       "      <td>0.50</td>\n",
       "      <td>0.500000</td>\n",
       "      <td>1.000000</td>\n",
       "    </tr>\n",
       "    <tr>\n",
       "      <th>5</th>\n",
       "      <td>[Bread]</td>\n",
       "      <td>[Saffron]</td>\n",
       "      <td>0.50</td>\n",
       "      <td>0.666667</td>\n",
       "      <td>0.888889</td>\n",
       "    </tr>\n",
       "    <tr>\n",
       "      <th>6</th>\n",
       "      <td>[Saffron]</td>\n",
       "      <td>[Bread]</td>\n",
       "      <td>0.50</td>\n",
       "      <td>0.666667</td>\n",
       "      <td>0.888889</td>\n",
       "    </tr>\n",
       "    <tr>\n",
       "      <th>7</th>\n",
       "      <td>[]</td>\n",
       "      <td>[Bread, Wafer]</td>\n",
       "      <td>0.50</td>\n",
       "      <td>0.500000</td>\n",
       "      <td>1.000000</td>\n",
       "    </tr>\n",
       "    <tr>\n",
       "      <th>8</th>\n",
       "      <td>[Bread]</td>\n",
       "      <td>[Wafer]</td>\n",
       "      <td>0.50</td>\n",
       "      <td>0.666667</td>\n",
       "      <td>1.333333</td>\n",
       "    </tr>\n",
       "    <tr>\n",
       "      <th>9</th>\n",
       "      <td>[Wafer]</td>\n",
       "      <td>[Bread]</td>\n",
       "      <td>0.50</td>\n",
       "      <td>1.000000</td>\n",
       "      <td>1.333333</td>\n",
       "    </tr>\n",
       "    <tr>\n",
       "      <th>10</th>\n",
       "      <td>[]</td>\n",
       "      <td>[Milk, Saffron]</td>\n",
       "      <td>0.50</td>\n",
       "      <td>0.500000</td>\n",
       "      <td>1.000000</td>\n",
       "    </tr>\n",
       "    <tr>\n",
       "      <th>11</th>\n",
       "      <td>[Milk]</td>\n",
       "      <td>[Saffron]</td>\n",
       "      <td>0.50</td>\n",
       "      <td>1.000000</td>\n",
       "      <td>1.333333</td>\n",
       "    </tr>\n",
       "    <tr>\n",
       "      <th>12</th>\n",
       "      <td>[Saffron]</td>\n",
       "      <td>[Milk]</td>\n",
       "      <td>0.50</td>\n",
       "      <td>0.666667</td>\n",
       "      <td>1.333333</td>\n",
       "    </tr>\n",
       "  </tbody>\n",
       "</table>\n",
       "</div>"
      ],
      "text/plain": [
       "          LHS               RHS  Support  Confidence      Lift\n",
       "0          []           [Bread]     0.75    0.750000  1.000000\n",
       "1          []            [Milk]     0.50    0.500000  1.000000\n",
       "2          []         [Saffron]     0.75    0.750000  1.000000\n",
       "3          []           [Wafer]     0.50    0.500000  1.000000\n",
       "4          []  [Bread, Saffron]     0.50    0.500000  1.000000\n",
       "5     [Bread]         [Saffron]     0.50    0.666667  0.888889\n",
       "6   [Saffron]           [Bread]     0.50    0.666667  0.888889\n",
       "7          []    [Bread, Wafer]     0.50    0.500000  1.000000\n",
       "8     [Bread]           [Wafer]     0.50    0.666667  1.333333\n",
       "9     [Wafer]           [Bread]     0.50    1.000000  1.333333\n",
       "10         []   [Milk, Saffron]     0.50    0.500000  1.000000\n",
       "11     [Milk]         [Saffron]     0.50    1.000000  1.333333\n",
       "12  [Saffron]            [Milk]     0.50    0.666667  1.333333"
      ]
     },
     "execution_count": 164,
     "metadata": {},
     "output_type": "execute_result"
    }
   ],
   "source": [
    "associationRules=ARutils.extract(Rules)\n",
    "Rules_df=pd.DataFrame(associationRules,columns=['LHS','RHS','Support',\"Confidence\",'Lift'])\n",
    "Rules_df\n"
   ]
  },
  {
   "cell_type": "code",
   "execution_count": 165,
   "id": "85081135-847f-4d30-b49f-01d82d08acbb",
   "metadata": {},
   "outputs": [
    {
     "name": "stdout",
     "output_type": "stream",
     "text": [
      "The number of associated rules: 13\n",
      "LHS: [] --> RHS:['Bread'], support: 0.75, confidence: 0.75, lift: 1.00\n",
      "--------------------------------------------------------------------------------\n",
      "LHS: [] --> RHS:['Milk'], support: 0.50, confidence: 0.50, lift: 1.00\n",
      "--------------------------------------------------------------------------------\n",
      "LHS: [] --> RHS:['Saffron'], support: 0.75, confidence: 0.75, lift: 1.00\n",
      "--------------------------------------------------------------------------------\n",
      "LHS: [] --> RHS:['Wafer'], support: 0.50, confidence: 0.50, lift: 1.00\n",
      "--------------------------------------------------------------------------------\n",
      "LHS: [] --> RHS:['Bread', 'Saffron'], support: 0.50, confidence: 0.50, lift: 1.00\n",
      "--------------------------------------------------------------------------------\n",
      "LHS: ['Bread'] --> RHS:['Saffron'], support: 0.50, confidence: 0.67, lift: 0.89\n",
      "--------------------------------------------------------------------------------\n",
      "LHS: ['Saffron'] --> RHS:['Bread'], support: 0.50, confidence: 0.67, lift: 0.89\n",
      "--------------------------------------------------------------------------------\n",
      "LHS: [] --> RHS:['Bread', 'Wafer'], support: 0.50, confidence: 0.50, lift: 1.00\n",
      "--------------------------------------------------------------------------------\n",
      "LHS: ['Bread'] --> RHS:['Wafer'], support: 0.50, confidence: 0.67, lift: 1.33\n",
      "--------------------------------------------------------------------------------\n",
      "LHS: ['Wafer'] --> RHS:['Bread'], support: 0.50, confidence: 1.00, lift: 1.33\n",
      "--------------------------------------------------------------------------------\n",
      "LHS: [] --> RHS:['Milk', 'Saffron'], support: 0.50, confidence: 0.50, lift: 1.00\n",
      "--------------------------------------------------------------------------------\n",
      "LHS: ['Milk'] --> RHS:['Saffron'], support: 0.50, confidence: 1.00, lift: 1.33\n",
      "--------------------------------------------------------------------------------\n",
      "LHS: ['Saffron'] --> RHS:['Milk'], support: 0.50, confidence: 0.67, lift: 1.33\n",
      "--------------------------------------------------------------------------------\n"
     ]
    }
   ],
   "source": [
    "ARutils.inspect(associationRules)"
   ]
  },
  {
   "cell_type": "code",
   "execution_count": 166,
   "id": "caaa0f7b-3a64-4c83-8592-c12fb4940707",
   "metadata": {},
   "outputs": [],
   "source": [
    "transcations=ARutils.data_prepare(store_data)"
   ]
  },
  {
   "cell_type": "code",
   "execution_count": 167,
   "id": "ec972021-9bcf-4cd4-8735-93ff5098382f",
   "metadata": {},
   "outputs": [
    {
     "data": {
      "text/plain": [
       "34"
      ]
     },
     "execution_count": 167,
     "metadata": {},
     "output_type": "execute_result"
    }
   ],
   "source": [
    "Rules=list(apriori(transcations,min_support=0.2,min_confidence=0.3))\n",
    "associationRules=ARutils.extract(Rules)\n",
    "Rules_df=pd.DataFrame(associationRules,columns=['LHS','RHS','Support',\"Confidence\",'Lift'])\n",
    "len(Rules_df)"
   ]
  },
  {
   "cell_type": "code",
   "execution_count": 168,
   "id": "7e13eb5d-6df6-4ad4-b2e2-622190fddea5",
   "metadata": {},
   "outputs": [
    {
     "data": {
      "text/html": [
       "<div>\n",
       "<style scoped>\n",
       "    .dataframe tbody tr th:only-of-type {\n",
       "        vertical-align: middle;\n",
       "    }\n",
       "\n",
       "    .dataframe tbody tr th {\n",
       "        vertical-align: top;\n",
       "    }\n",
       "\n",
       "    .dataframe thead th {\n",
       "        text-align: right;\n",
       "    }\n",
       "</style>\n",
       "<table border=\"1\" class=\"dataframe\">\n",
       "  <thead>\n",
       "    <tr style=\"text-align: right;\">\n",
       "      <th></th>\n",
       "      <th>LHS</th>\n",
       "      <th>RHS</th>\n",
       "      <th>Support</th>\n",
       "      <th>Confidence</th>\n",
       "      <th>Lift</th>\n",
       "    </tr>\n",
       "  </thead>\n",
       "  <tbody>\n",
       "    <tr>\n",
       "      <th>29</th>\n",
       "      <td>[cracker]</td>\n",
       "      <td>[choclate]</td>\n",
       "      <td>0.321</td>\n",
       "      <td>0.842520</td>\n",
       "      <td>2.359999</td>\n",
       "    </tr>\n",
       "    <tr>\n",
       "      <th>28</th>\n",
       "      <td>[choclate]</td>\n",
       "      <td>[cracker]</td>\n",
       "      <td>0.321</td>\n",
       "      <td>0.899160</td>\n",
       "      <td>2.359999</td>\n",
       "    </tr>\n",
       "    <tr>\n",
       "      <th>25</th>\n",
       "      <td>[bourbon]</td>\n",
       "      <td>[sardines]</td>\n",
       "      <td>0.297</td>\n",
       "      <td>0.671946</td>\n",
       "      <td>1.470341</td>\n",
       "    </tr>\n",
       "    <tr>\n",
       "      <th>26</th>\n",
       "      <td>[sardines]</td>\n",
       "      <td>[bourbon]</td>\n",
       "      <td>0.297</td>\n",
       "      <td>0.649891</td>\n",
       "      <td>1.470341</td>\n",
       "    </tr>\n",
       "    <tr>\n",
       "      <th>17</th>\n",
       "      <td>[banana]</td>\n",
       "      <td>[bourbon]</td>\n",
       "      <td>0.220</td>\n",
       "      <td>0.606061</td>\n",
       "      <td>1.371178</td>\n",
       "    </tr>\n",
       "    <tr>\n",
       "      <th>18</th>\n",
       "      <td>[bourbon]</td>\n",
       "      <td>[banana]</td>\n",
       "      <td>0.220</td>\n",
       "      <td>0.497738</td>\n",
       "      <td>1.371178</td>\n",
       "    </tr>\n",
       "    <tr>\n",
       "      <th>12</th>\n",
       "      <td>[cosmetics]</td>\n",
       "      <td>[avocado]</td>\n",
       "      <td>0.356</td>\n",
       "      <td>0.664179</td>\n",
       "      <td>1.355468</td>\n",
       "    </tr>\n",
       "    <tr>\n",
       "      <th>11</th>\n",
       "      <td>[avocado]</td>\n",
       "      <td>[cosmetics]</td>\n",
       "      <td>0.356</td>\n",
       "      <td>0.726531</td>\n",
       "      <td>1.355468</td>\n",
       "    </tr>\n",
       "    <tr>\n",
       "      <th>19</th>\n",
       "      <td>[bourbon]</td>\n",
       "      <td>[choclate]</td>\n",
       "      <td>0.204</td>\n",
       "      <td>0.461538</td>\n",
       "      <td>1.292825</td>\n",
       "    </tr>\n",
       "    <tr>\n",
       "      <th>20</th>\n",
       "      <td>[choclate]</td>\n",
       "      <td>[bourbon]</td>\n",
       "      <td>0.204</td>\n",
       "      <td>0.571429</td>\n",
       "      <td>1.292825</td>\n",
       "    </tr>\n",
       "  </tbody>\n",
       "</table>\n",
       "</div>"
      ],
      "text/plain": [
       "            LHS          RHS  Support  Confidence      Lift\n",
       "29    [cracker]   [choclate]    0.321    0.842520  2.359999\n",
       "28   [choclate]    [cracker]    0.321    0.899160  2.359999\n",
       "25    [bourbon]   [sardines]    0.297    0.671946  1.470341\n",
       "26   [sardines]    [bourbon]    0.297    0.649891  1.470341\n",
       "17     [banana]    [bourbon]    0.220    0.606061  1.371178\n",
       "18    [bourbon]     [banana]    0.220    0.497738  1.371178\n",
       "12  [cosmetics]    [avocado]    0.356    0.664179  1.355468\n",
       "11    [avocado]  [cosmetics]    0.356    0.726531  1.355468\n",
       "19    [bourbon]   [choclate]    0.204    0.461538  1.292825\n",
       "20   [choclate]    [bourbon]    0.204    0.571429  1.292825"
      ]
     },
     "execution_count": 168,
     "metadata": {},
     "output_type": "execute_result"
    }
   ],
   "source": [
    "Rules_df.nlargest(10,'Lift')"
   ]
  },
  {
   "cell_type": "code",
   "execution_count": 169,
   "id": "c4cc3374-1b16-4ce5-ad61-5e9372d41138",
   "metadata": {},
   "outputs": [
    {
     "data": {
      "text/html": [
       "<div>\n",
       "<style scoped>\n",
       "    .dataframe tbody tr th:only-of-type {\n",
       "        vertical-align: middle;\n",
       "    }\n",
       "\n",
       "    .dataframe tbody tr th {\n",
       "        vertical-align: top;\n",
       "    }\n",
       "\n",
       "    .dataframe thead th {\n",
       "        text-align: right;\n",
       "    }\n",
       "</style>\n",
       "<table border=\"1\" class=\"dataframe\">\n",
       "  <thead>\n",
       "    <tr style=\"text-align: right;\">\n",
       "      <th></th>\n",
       "      <th>LHS</th>\n",
       "      <th>RHS</th>\n",
       "      <th>Support</th>\n",
       "      <th>Confidence</th>\n",
       "      <th>Lift</th>\n",
       "    </tr>\n",
       "  </thead>\n",
       "  <tbody>\n",
       "    <tr>\n",
       "      <th>5</th>\n",
       "      <td>[]</td>\n",
       "      <td>[cosmetics]</td>\n",
       "      <td>0.536</td>\n",
       "      <td>0.536000</td>\n",
       "      <td>1.000000</td>\n",
       "    </tr>\n",
       "    <tr>\n",
       "      <th>1</th>\n",
       "      <td>[]</td>\n",
       "      <td>[avocado]</td>\n",
       "      <td>0.490</td>\n",
       "      <td>0.490000</td>\n",
       "      <td>1.000000</td>\n",
       "    </tr>\n",
       "    <tr>\n",
       "      <th>7</th>\n",
       "      <td>[]</td>\n",
       "      <td>[sardines]</td>\n",
       "      <td>0.457</td>\n",
       "      <td>0.457000</td>\n",
       "      <td>1.000000</td>\n",
       "    </tr>\n",
       "    <tr>\n",
       "      <th>3</th>\n",
       "      <td>[]</td>\n",
       "      <td>[bourbon]</td>\n",
       "      <td>0.442</td>\n",
       "      <td>0.442000</td>\n",
       "      <td>1.000000</td>\n",
       "    </tr>\n",
       "    <tr>\n",
       "      <th>6</th>\n",
       "      <td>[]</td>\n",
       "      <td>[cracker]</td>\n",
       "      <td>0.381</td>\n",
       "      <td>0.381000</td>\n",
       "      <td>1.000000</td>\n",
       "    </tr>\n",
       "    <tr>\n",
       "      <th>2</th>\n",
       "      <td>[]</td>\n",
       "      <td>[banana]</td>\n",
       "      <td>0.363</td>\n",
       "      <td>0.363000</td>\n",
       "      <td>1.000000</td>\n",
       "    </tr>\n",
       "    <tr>\n",
       "      <th>4</th>\n",
       "      <td>[]</td>\n",
       "      <td>[choclate]</td>\n",
       "      <td>0.357</td>\n",
       "      <td>0.357000</td>\n",
       "      <td>1.000000</td>\n",
       "    </tr>\n",
       "    <tr>\n",
       "      <th>10</th>\n",
       "      <td>[]</td>\n",
       "      <td>[cosmetics, avocado]</td>\n",
       "      <td>0.356</td>\n",
       "      <td>0.356000</td>\n",
       "      <td>1.000000</td>\n",
       "    </tr>\n",
       "    <tr>\n",
       "      <th>11</th>\n",
       "      <td>[avocado]</td>\n",
       "      <td>[cosmetics]</td>\n",
       "      <td>0.356</td>\n",
       "      <td>0.726531</td>\n",
       "      <td>1.355468</td>\n",
       "    </tr>\n",
       "    <tr>\n",
       "      <th>12</th>\n",
       "      <td>[cosmetics]</td>\n",
       "      <td>[avocado]</td>\n",
       "      <td>0.356</td>\n",
       "      <td>0.664179</td>\n",
       "      <td>1.355468</td>\n",
       "    </tr>\n",
       "  </tbody>\n",
       "</table>\n",
       "</div>"
      ],
      "text/plain": [
       "            LHS                   RHS  Support  Confidence      Lift\n",
       "5            []           [cosmetics]    0.536    0.536000  1.000000\n",
       "1            []             [avocado]    0.490    0.490000  1.000000\n",
       "7            []            [sardines]    0.457    0.457000  1.000000\n",
       "3            []             [bourbon]    0.442    0.442000  1.000000\n",
       "6            []             [cracker]    0.381    0.381000  1.000000\n",
       "2            []              [banana]    0.363    0.363000  1.000000\n",
       "4            []            [choclate]    0.357    0.357000  1.000000\n",
       "10           []  [cosmetics, avocado]    0.356    0.356000  1.000000\n",
       "11    [avocado]           [cosmetics]    0.356    0.726531  1.355468\n",
       "12  [cosmetics]             [avocado]    0.356    0.664179  1.355468"
      ]
     },
     "execution_count": 169,
     "metadata": {},
     "output_type": "execute_result"
    }
   ],
   "source": [
    "Rules_df.nlargest(10,'Support')"
   ]
  },
  {
   "cell_type": "code",
   "execution_count": 170,
   "id": "6227218c-c525-4bb0-aec8-be111005c474",
   "metadata": {},
   "outputs": [
    {
     "data": {
      "text/html": [
       "<div>\n",
       "<style scoped>\n",
       "    .dataframe tbody tr th:only-of-type {\n",
       "        vertical-align: middle;\n",
       "    }\n",
       "\n",
       "    .dataframe tbody tr th {\n",
       "        vertical-align: top;\n",
       "    }\n",
       "\n",
       "    .dataframe thead th {\n",
       "        text-align: right;\n",
       "    }\n",
       "</style>\n",
       "<table border=\"1\" class=\"dataframe\">\n",
       "  <thead>\n",
       "    <tr style=\"text-align: right;\">\n",
       "      <th></th>\n",
       "      <th>LHS</th>\n",
       "      <th>RHS</th>\n",
       "      <th>Support</th>\n",
       "      <th>Confidence</th>\n",
       "      <th>Lift</th>\n",
       "    </tr>\n",
       "  </thead>\n",
       "  <tbody>\n",
       "    <tr>\n",
       "      <th>28</th>\n",
       "      <td>[choclate]</td>\n",
       "      <td>[cracker]</td>\n",
       "      <td>0.321</td>\n",
       "      <td>0.899160</td>\n",
       "      <td>2.359999</td>\n",
       "    </tr>\n",
       "    <tr>\n",
       "      <th>29</th>\n",
       "      <td>[cracker]</td>\n",
       "      <td>[choclate]</td>\n",
       "      <td>0.321</td>\n",
       "      <td>0.842520</td>\n",
       "      <td>2.359999</td>\n",
       "    </tr>\n",
       "    <tr>\n",
       "      <th>11</th>\n",
       "      <td>[avocado]</td>\n",
       "      <td>[cosmetics]</td>\n",
       "      <td>0.356</td>\n",
       "      <td>0.726531</td>\n",
       "      <td>1.355468</td>\n",
       "    </tr>\n",
       "    <tr>\n",
       "      <th>25</th>\n",
       "      <td>[bourbon]</td>\n",
       "      <td>[sardines]</td>\n",
       "      <td>0.297</td>\n",
       "      <td>0.671946</td>\n",
       "      <td>1.470341</td>\n",
       "    </tr>\n",
       "    <tr>\n",
       "      <th>12</th>\n",
       "      <td>[cosmetics]</td>\n",
       "      <td>[avocado]</td>\n",
       "      <td>0.356</td>\n",
       "      <td>0.664179</td>\n",
       "      <td>1.355468</td>\n",
       "    </tr>\n",
       "    <tr>\n",
       "      <th>26</th>\n",
       "      <td>[sardines]</td>\n",
       "      <td>[bourbon]</td>\n",
       "      <td>0.297</td>\n",
       "      <td>0.649891</td>\n",
       "      <td>1.470341</td>\n",
       "    </tr>\n",
       "    <tr>\n",
       "      <th>17</th>\n",
       "      <td>[banana]</td>\n",
       "      <td>[bourbon]</td>\n",
       "      <td>0.220</td>\n",
       "      <td>0.606061</td>\n",
       "      <td>1.371178</td>\n",
       "    </tr>\n",
       "    <tr>\n",
       "      <th>20</th>\n",
       "      <td>[choclate]</td>\n",
       "      <td>[bourbon]</td>\n",
       "      <td>0.204</td>\n",
       "      <td>0.571429</td>\n",
       "      <td>1.292825</td>\n",
       "    </tr>\n",
       "    <tr>\n",
       "      <th>31</th>\n",
       "      <td>[cracker]</td>\n",
       "      <td>[cosmetics]</td>\n",
       "      <td>0.211</td>\n",
       "      <td>0.553806</td>\n",
       "      <td>1.033220</td>\n",
       "    </tr>\n",
       "    <tr>\n",
       "      <th>5</th>\n",
       "      <td>[]</td>\n",
       "      <td>[cosmetics]</td>\n",
       "      <td>0.536</td>\n",
       "      <td>0.536000</td>\n",
       "      <td>1.000000</td>\n",
       "    </tr>\n",
       "  </tbody>\n",
       "</table>\n",
       "</div>"
      ],
      "text/plain": [
       "            LHS          RHS  Support  Confidence      Lift\n",
       "28   [choclate]    [cracker]    0.321    0.899160  2.359999\n",
       "29    [cracker]   [choclate]    0.321    0.842520  2.359999\n",
       "11    [avocado]  [cosmetics]    0.356    0.726531  1.355468\n",
       "25    [bourbon]   [sardines]    0.297    0.671946  1.470341\n",
       "12  [cosmetics]    [avocado]    0.356    0.664179  1.355468\n",
       "26   [sardines]    [bourbon]    0.297    0.649891  1.470341\n",
       "17     [banana]    [bourbon]    0.220    0.606061  1.371178\n",
       "20   [choclate]    [bourbon]    0.204    0.571429  1.292825\n",
       "31    [cracker]  [cosmetics]    0.211    0.553806  1.033220\n",
       "5            []  [cosmetics]    0.536    0.536000  1.000000"
      ]
     },
     "execution_count": 170,
     "metadata": {},
     "output_type": "execute_result"
    }
   ],
   "source": [
    "Rules_df.nlargest(10,'Confidence')"
   ]
  },
  {
   "cell_type": "code",
   "execution_count": 171,
   "id": "2a048f9e-8530-4181-9b08-aa9f072bd497",
   "metadata": {},
   "outputs": [
    {
     "data": {
      "text/plain": [
       "<function matplotlib.pyplot.show(close=None, block=None)>"
      ]
     },
     "execution_count": 171,
     "metadata": {},
     "output_type": "execute_result"
    },
    {
     "data": {
      "image/png": "[encoded data removed]",
      "text/plain": [
       "<Figure size 640x480 with 1 Axes>"
      ]
     },
     "metadata": {},
     "output_type": "display_data"
    }
   ],
   "source": [
    "ax=purchased.plot.bar()\n",
    "plt.show"
   ]
  },
  {
   "cell_type": "code",
   "execution_count": 172,
   "id": "b5b3998b-021a-41a6-9544-db3962ffc2ee",
   "metadata": {},
   "outputs": [
    {
     "name": "stdout",
     "output_type": "stream",
     "text": [
      "The number of associated rules: 0\n"
     ]
    }
   ],
   "source": [
    "Rules=list(apriori(transcations,min_support=0.2,min_confidence=0.3))\n",
    "associationRules=ARutils.extract(Rules,'Cosmetics',2)\n",
    "ARutils.inspect(associationRules)"
   ]
  },
  {
   "cell_type": "code",
   "execution_count": 173,
   "id": "b9350e12-17a0-4881-8e9c-05947b46b859",
   "metadata": {},
   "outputs": [
    {
     "name": "stdout",
     "output_type": "stream",
     "text": [
      "The number of associated rules: 24\n",
      "LHS: ['artichoke'] --> RHS:['cosmetics'], support: 0.17, confidence: 0.52, lift: 0.97\n",
      "--------------------------------------------------------------------------------\n",
      "LHS: ['avocado'] --> RHS:['cosmetics'], support: 0.36, confidence: 0.73, lift: 1.36\n",
      "--------------------------------------------------------------------------------\n",
      "LHS: ['banana'] --> RHS:['cosmetics'], support: 0.19, confidence: 0.53, lift: 0.99\n",
      "--------------------------------------------------------------------------------\n",
      "LHS: ['bourbon'] --> RHS:['cosmetics'], support: 0.23, confidence: 0.52, lift: 0.98\n",
      "--------------------------------------------------------------------------------\n",
      "LHS: ['choclate'] --> RHS:['cosmetics'], support: 0.19, confidence: 0.54, lift: 1.00\n",
      "--------------------------------------------------------------------------------\n",
      "LHS: ['coke'] --> RHS:['cosmetics'], support: 0.14, confidence: 0.51, lift: 0.95\n",
      "--------------------------------------------------------------------------------\n",
      "LHS: ['cracker'] --> RHS:['cosmetics'], support: 0.21, confidence: 0.55, lift: 1.03\n",
      "--------------------------------------------------------------------------------\n",
      "LHS: ['sardines'] --> RHS:['cosmetics'], support: 0.24, confidence: 0.52, lift: 0.97\n",
      "--------------------------------------------------------------------------------\n",
      "LHS: ['avocado', 'artichoke'] --> RHS:['cosmetics'], support: 0.12, confidence: 0.73, lift: 1.37\n",
      "--------------------------------------------------------------------------------\n",
      "LHS: ['banana', 'avocado'] --> RHS:['cosmetics'], support: 0.12, confidence: 0.67, lift: 1.25\n",
      "--------------------------------------------------------------------------------\n",
      "LHS: ['avocado', 'bourbon'] --> RHS:['cosmetics'], support: 0.14, confidence: 0.65, lift: 1.21\n",
      "--------------------------------------------------------------------------------\n",
      "LHS: ['choclate', 'avocado'] --> RHS:['cosmetics'], support: 0.13, confidence: 0.72, lift: 1.34\n",
      "--------------------------------------------------------------------------------\n",
      "LHS: ['cracker', 'avocado'] --> RHS:['cosmetics'], support: 0.15, confidence: 0.73, lift: 1.36\n",
      "--------------------------------------------------------------------------------\n",
      "LHS: ['avocado', 'sardines'] --> RHS:['cosmetics'], support: 0.16, confidence: 0.69, lift: 1.28\n",
      "--------------------------------------------------------------------------------\n",
      "LHS: ['banana', 'bourbon'] --> RHS:['cosmetics'], support: 0.12, confidence: 0.52, lift: 0.98\n",
      "--------------------------------------------------------------------------------\n",
      "LHS: ['choclate', 'banana'] --> RHS:['cosmetics'], support: 0.10, confidence: 0.55, lift: 1.02\n",
      "--------------------------------------------------------------------------------\n",
      "LHS: ['cracker', 'banana'] --> RHS:['cosmetics'], support: 0.10, confidence: 0.55, lift: 1.03\n",
      "--------------------------------------------------------------------------------\n",
      "LHS: ['choclate', 'bourbon'] --> RHS:['cosmetics'], support: 0.11, confidence: 0.52, lift: 0.98\n",
      "--------------------------------------------------------------------------------\n",
      "LHS: ['cracker', 'bourbon'] --> RHS:['cosmetics'], support: 0.10, confidence: 0.52, lift: 0.97\n",
      "--------------------------------------------------------------------------------\n",
      "LHS: ['sardines', 'bourbon'] --> RHS:['cosmetics'], support: 0.15, confidence: 0.51, lift: 0.95\n",
      "--------------------------------------------------------------------------------\n",
      "LHS: ['cracker', 'choclate'] --> RHS:['cosmetics'], support: 0.17, confidence: 0.52, lift: 0.96\n",
      "--------------------------------------------------------------------------------\n",
      "LHS: ['choclate', 'avocado'] --> RHS:['cracker', 'cosmetics'], support: 0.11, confidence: 0.61, lift: 2.91\n",
      "--------------------------------------------------------------------------------\n",
      "LHS: ['cracker', 'avocado'] --> RHS:['cosmetics', 'choclate'], support: 0.11, confidence: 0.55, lift: 2.88\n",
      "--------------------------------------------------------------------------------\n",
      "LHS: ['cracker', 'choclate', 'avocado'] --> RHS:['cosmetics'], support: 0.11, confidence: 0.70, lift: 1.31\n",
      "--------------------------------------------------------------------------------\n"
     ]
    }
   ],
   "source": [
    "Rules= list(apriori(transcations, min_support=0.1, min_confidence=0.5))\n",
    "associationRules= ARutils.extract(Rules, 'cosmetics',2)\n",
    "ARutils.inspect(associationRules)"
   ]
  },
  {
   "cell_type": "code",
   "execution_count": 174,
   "id": "af522a25-d5b7-4839-bb3b-8e05ec78fffb",
   "metadata": {},
   "outputs": [
    {
     "name": "stdout",
     "output_type": "stream",
     "text": [
      "Requirement already satisfied: plotly in c:\\users\\madhu\\anaconda3\\lib\\site-packages (6.3.0)\n",
      "Requirement already satisfied: narwhals>=1.15.1 in c:\\users\\madhu\\anaconda3\\lib\\site-packages (from plotly) (2.5.0)\n",
      "Requirement already satisfied: packaging in c:\\users\\madhu\\anaconda3\\lib\\site-packages (from plotly) (23.2)\n"
     ]
    }
   ],
   "source": [
    "!pip install plotly"
   ]
  },
  {
   "cell_type": "code",
   "execution_count": 175,
   "id": "b0c40b70-4a3d-4dce-ae85-c9a725ad4fe4",
   "metadata": {},
   "outputs": [
    {
     "data": {
      "application/vnd.plotly.v1+json": {
       "config": {
        "plotlyServerURL": "https://plot.ly"
       },
       "data": [
        {
         "customdata": [
          [
           [
            "artichoke"
           ],
           [
            "cosmetics"
           ]
          ],
          [
           [
            "avocado"
           ],
           [
            "cosmetics"
           ]
          ],
          [
           [
            "banana"
           ],
           [
            "cosmetics"
           ]
          ],
          [
           [
            "bourbon"
           ],
           [
            "cosmetics"
           ]
          ],
          [
           [
            "choclate"
           ],
           [
            "cosmetics"
           ]
          ],
          [
           [
            "coke"
           ],
           [
            "cosmetics"
           ]
          ],
          [
           [
            "cracker"
           ],
           [
            "cosmetics"
           ]
          ],
          [
           [
            "sardines"
           ],
           [
            "cosmetics"
           ]
          ],
          [
           [
            "avocado",
            "artichoke"
           ],
           [
            "cosmetics"
           ]
          ],
          [
           [
            "banana",
            "avocado"
           ],
           [
            "cosmetics"
           ]
          ],
          [
           [
            "avocado",
            "bourbon"
           ],
           [
            "cosmetics"
           ]
          ],
          [
           [
            "choclate",
            "avocado"
           ],
           [
            "cosmetics"
           ]
          ],
          [
           [
            "cracker",
            "avocado"
           ],
           [
            "cosmetics"
           ]
          ],
          [
           [
            "avocado",
            "sardines"
           ],
           [
            "cosmetics"
           ]
          ],
          [
           [
            "banana",
            "bourbon"
           ],
           [
            "cosmetics"
           ]
          ],
          [
           [
            "choclate",
            "banana"
           ],
           [
            "cosmetics"
           ]
          ],
          [
           [
            "cracker",
            "banana"
           ],
           [
            "cosmetics"
           ]
          ],
          [
           [
            "choclate",
            "bourbon"
           ],
           [
            "cosmetics"
           ]
          ],
          [
           [
            "cracker",
            "bourbon"
           ],
           [
            "cosmetics"
           ]
          ],
          [
           [
            "sardines",
            "bourbon"
           ],
           [
            "cosmetics"
           ]
          ],
          [
           [
            "cracker",
            "choclate"
           ],
           [
            "cosmetics"
           ]
          ],
          [
           [
            "choclate",
            "avocado"
           ],
           [
            "cracker",
            "cosmetics"
           ]
          ],
          [
           [
            "cracker",
            "avocado"
           ],
           [
            "cosmetics",
            "choclate"
           ]
          ],
          [
           [
            "cracker",
            "choclate",
            "avocado"
           ],
           [
            "cosmetics"
           ]
          ]
         ],
         "hovertemplate": "Support=%{x}<br>Confidence=%{y}<br>LHS=%{customdata[0]}<br>RHS=%{customdata[1]}<br>Lift=%{marker.color}<extra></extra>",
         "legendgroup": "",
         "marker": {
          "color": [
           0.9675998887549828,
           1.3554675601583914,
           0.9868015295423708,
           0.9750455865469035,
           1.0033864291985453,
           0.9528251599147121,
           1.0332197281309985,
           0.9716189294229071,
           1.3697336104288682,
           1.2472748616468219,
           1.2066958784061341,
           1.3399851570874908,
           1.3551644761268282,
           1.2821355776185153,
           0.975237449118046,
           1.0240914990266061,
           1.0250943086763982,
           0.9785630670178519,
           0.9653226405286996,
           0.9548218503442384,
           0.9648021574371135,
           2.9064439265795605,
           2.876243781094527,
           1.3106933686000377
          ],
          "coloraxis": "coloraxis",
          "symbol": "circle"
         },
         "mode": "markers",
         "name": "",
         "orientation": "v",
         "showlegend": false,
         "type": "scatter",
         "x": [
          0.167,
          0.356,
          0.192,
          0.231,
          0.192,
          0.143,
          0.211,
          0.238,
          0.116,
          0.119,
          0.141,
          0.13,
          0.146,
          0.156,
          0.115,
          0.101,
          0.1,
          0.107,
          0.104,
          0.152,
          0.166,
          0.111,
          0.111,
          0.111
         ],
         "xaxis": "x",
         "y": [
          0.5186335403726708,
          0.7265306122448979,
          0.5289256198347108,
          0.5226244343891403,
          0.5378151260504203,
          0.5107142857142857,
          0.5538057742782152,
          0.5207877461706782,
          0.7341772151898734,
          0.6685393258426966,
          0.646788990825688,
          0.7182320441988951,
          0.72636815920398,
          0.6872246696035242,
          0.5227272727272727,
          0.5489130434782609,
          0.5494505494505495,
          0.5245098039215687,
          0.5174129353233831,
          0.5117845117845118,
          0.5171339563862929,
          0.6132596685082873,
          0.5522388059701492,
          0.7025316455696202
         ],
         "yaxis": "y"
        }
       ],
       "layout": {
        "autosize": true,
        "coloraxis": {
         "colorbar": {
          "title": {
           "text": "Lift"
          }
         },
         "colorscale": [
          [
           0,
           "rgb(75, 41, 145)"
          ],
          [
           0.16666666666666666,
           "rgb(135, 44, 162)"
          ],
          [
           0.3333333333333333,
           "rgb(192, 54, 157)"
          ],
          [
           0.5,
           "rgb(234, 79, 136)"
          ],
          [
           0.6666666666666666,
           "rgb(250, 120, 118)"
          ],
          [
           0.8333333333333334,
           "rgb(246, 169, 122)"
          ],
          [
           1,
           "rgb(237, 217, 163)"
          ]
         ]
        },
        "legend": {
         "tracegroupgap": 0
        },
        "margin": {
         "t": 60
        },
        "template": {
         "data": {
          "bar": [
           {
            "error_x": {
             "color": "#2a3f5f"
            },
            "error_y": {
             "color": "#2a3f5f"
            },
            "marker": {
             "line": {
              "color": "#E5ECF6",
              "width": 0.5
             },
             "pattern": {
              "fillmode": "overlay",
              "size": 10,
              "solidity": 0.2
             }
            },
            "type": "bar"
           }
          ],
          "barpolar": [
           {
            "marker": {
             "line": {
              "color": "#E5ECF6",
              "width": 0.5
             },
             "pattern": {
              "fillmode": "overlay",
              "size": 10,
              "solidity": 0.2
             }
            },
            "type": "barpolar"
           }
          ],
          "carpet": [
           {
            "aaxis": {
             "endlinecolor": "#2a3f5f",
             "gridcolor": "white",
             "linecolor": "white",
             "minorgridcolor": "white",
             "startlinecolor": "#2a3f5f"
            },
            "baxis": {
             "endlinecolor": "#2a3f5f",
             "gridcolor": "white",
             "linecolor": "white",
             "minorgridcolor": "white",
             "startlinecolor": "#2a3f5f"
            },
            "type": "carpet"
           }
          ],
          "choropleth": [
           {
            "colorbar": {
             "outlinewidth": 0,
             "ticks": ""
            },
            "type": "choropleth"
           }
          ],
          "contour": [
           {
            "colorbar": {
             "outlinewidth": 0,
             "ticks": ""
            },
            "colorscale": [
             [
              0,
              "#0d0887"
             ],
             [
              0.1111111111111111,
              "#46039f"
             ],
             [
              0.2222222222222222,
              "#7201a8"
             ],
             [
              0.3333333333333333,
              "#9c179e"
             ],
             [
              0.4444444444444444,
              "#bd3786"
             ],
             [
              0.5555555555555556,
              "#d8576b"
             ],
             [
              0.6666666666666666,
              "#ed7953"
             ],
             [
              0.7777777777777778,
              "#fb9f3a"
             ],
             [
              0.8888888888888888,
              "#fdca26"
             ],
             [
              1,
              "#f0f921"
             ]
            ],
            "type": "contour"
           }
          ],
          "contourcarpet": [
           {
            "colorbar": {
             "outlinewidth": 0,
             "ticks": ""
            },
            "type": "contourcarpet"
           }
          ],
          "heatmap": [
           {
            "colorbar": {
             "outlinewidth": 0,
             "ticks": ""
            },
            "colorscale": [
             [
              0,
              "#0d0887"
             ],
             [
              0.1111111111111111,
              "#46039f"
             ],
             [
              0.2222222222222222,
              "#7201a8"
             ],
             [
              0.3333333333333333,
              "#9c179e"
             ],
             [
              0.4444444444444444,
              "#bd3786"
             ],
             [
              0.5555555555555556,
              "#d8576b"
             ],
             [
              0.6666666666666666,
              "#ed7953"
             ],
             [
              0.7777777777777778,
              "#fb9f3a"
             ],
             [
              0.8888888888888888,
              "#fdca26"
             ],
             [
              1,
              "#f0f921"
             ]
            ],
            "type": "heatmap"
           }
          ],
          "heatmapgl": [
           {
            "colorbar": {
             "outlinewidth": 0,
             "ticks": ""
            },
            "colorscale": [
             [
              0,
              "#0d0887"
             ],
             [
              0.1111111111111111,
              "#46039f"
             ],
             [
              0.2222222222222222,
              "#7201a8"
             ],
             [
              0.3333333333333333,
              "#9c179e"
             ],
             [
              0.4444444444444444,
              "#bd3786"
             ],
             [
              0.5555555555555556,
              "#d8576b"
             ],
             [
              0.6666666666666666,
              "#ed7953"
             ],
             [
              0.7777777777777778,
              "#fb9f3a"
             ],
             [
              0.8888888888888888,
              "#fdca26"
             ],
             [
              1,
              "#f0f921"
             ]
            ],
            "type": "heatmapgl"
           }
          ],
          "histogram": [
           {
            "marker": {
             "pattern": {
              "fillmode": "overlay",
              "size": 10,
              "solidity": 0.2
             }
            },
            "type": "histogram"
           }
          ],
          "histogram2d": [
           {
            "colorbar": {
             "outlinewidth": 0,
             "ticks": ""
            },
            "colorscale": [
             [
              0,
              "#0d0887"
             ],
             [
              0.1111111111111111,
              "#46039f"
             ],
             [
              0.2222222222222222,
              "#7201a8"
             ],
             [
              0.3333333333333333,
              "#9c179e"
             ],
             [
              0.4444444444444444,
              "#bd3786"
             ],
             [
              0.5555555555555556,
              "#d8576b"
             ],
             [
              0.6666666666666666,
              "#ed7953"
             ],
             [
              0.7777777777777778,
              "#fb9f3a"
             ],
             [
              0.8888888888888888,
              "#fdca26"
             ],
             [
              1,
              "#f0f921"
             ]
            ],
            "type": "histogram2d"
           }
          ],
          "histogram2dcontour": [
           {
            "colorbar": {
             "outlinewidth": 0,
             "ticks": ""
            },
            "colorscale": [
             [
              0,
              "#0d0887"
             ],
             [
              0.1111111111111111,
              "#46039f"
             ],
             [
              0.2222222222222222,
              "#7201a8"
             ],
             [
              0.3333333333333333,
              "#9c179e"
             ],
             [
              0.4444444444444444,
              "#bd3786"
             ],
             [
              0.5555555555555556,
              "#d8576b"
             ],
             [
              0.6666666666666666,
              "#ed7953"
             ],
             [
              0.7777777777777778,
              "#fb9f3a"
             ],
             [
              0.8888888888888888,
              "#fdca26"
             ],
             [
              1,
              "#f0f921"
             ]
            ],
            "type": "histogram2dcontour"
           }
          ],
          "mesh3d": [
           {
            "colorbar": {
             "outlinewidth": 0,
             "ticks": ""
            },
            "type": "mesh3d"
           }
          ],
          "parcoords": [
           {
            "line": {
             "colorbar": {
              "outlinewidth": 0,
              "ticks": ""
             }
            },
            "type": "parcoords"
           }
          ],
          "pie": [
           {
            "automargin": true,
            "type": "pie"
           }
          ],
          "scatter": [
           {
            "fillpattern": {
             "fillmode": "overlay",
             "size": 10,
             "solidity": 0.2
            },
            "type": "scatter"
           }
          ],
          "scatter3d": [
           {
            "line": {
             "colorbar": {
              "outlinewidth": 0,
              "ticks": ""
             }
            },
            "marker": {
             "colorbar": {
              "outlinewidth": 0,
              "ticks": ""
             }
            },
            "type": "scatter3d"
           }
          ],
          "scattercarpet": [
           {
            "marker": {
             "colorbar": {
              "outlinewidth": 0,
              "ticks": ""
             }
            },
            "type": "scattercarpet"
           }
          ],
          "scattergeo": [
           {
            "marker": {
             "colorbar": {
              "outlinewidth": 0,
              "ticks": ""
             }
            },
            "type": "scattergeo"
           }
          ],
          "scattergl": [
           {
            "marker": {
             "colorbar": {
              "outlinewidth": 0,
              "ticks": ""
             }
            },
            "type": "scattergl"
           }
          ],
          "scattermapbox": [
           {
            "marker": {
             "colorbar": {
              "outlinewidth": 0,
              "ticks": ""
             }
            },
            "type": "scattermapbox"
           }
          ],
          "scatterpolar": [
           {
            "marker": {
             "colorbar": {
              "outlinewidth": 0,
              "ticks": ""
             }
            },
            "type": "scatterpolar"
           }
          ],
          "scatterpolargl": [
           {
            "marker": {
             "colorbar": {
              "outlinewidth": 0,
              "ticks": ""
             }
            },
            "type": "scatterpolargl"
           }
          ],
          "scatterternary": [
           {
            "marker": {
             "colorbar": {
              "outlinewidth": 0,
              "ticks": ""
             }
            },
            "type": "scatterternary"
           }
          ],
          "surface": [
           {
            "colorbar": {
             "outlinewidth": 0,
             "ticks": ""
            },
            "colorscale": [
             [
              0,
              "#0d0887"
             ],
             [
              0.1111111111111111,
              "#46039f"
             ],
             [
              0.2222222222222222,
              "#7201a8"
             ],
             [
              0.3333333333333333,
              "#9c179e"
             ],
             [
              0.4444444444444444,
              "#bd3786"
             ],
             [
              0.5555555555555556,
              "#d8576b"
             ],
             [
              0.6666666666666666,
              "#ed7953"
             ],
             [
              0.7777777777777778,
              "#fb9f3a"
             ],
             [
              0.8888888888888888,
              "#fdca26"
             ],
             [
              1,
              "#f0f921"
             ]
            ],
            "type": "surface"
           }
          ],
          "table": [
           {
            "cells": {
             "fill": {
              "color": "#EBF0F8"
             },
             "line": {
              "color": "white"
             }
            },
            "header": {
             "fill": {
              "color": "#C8D4E3"
             },
             "line": {
              "color": "white"
             }
            },
            "type": "table"
           }
          ]
         },
         "layout": {
          "annotationdefaults": {
           "arrowcolor": "#2a3f5f",
           "arrowhead": 0,
           "arrowwidth": 1
          },
          "autotypenumbers": "strict",
          "coloraxis": {
           "colorbar": {
            "outlinewidth": 0,
            "ticks": ""
           }
          },
          "colorscale": {
           "diverging": [
            [
             0,
             "#8e0152"
            ],
            [
             0.1,
             "#c51b7d"
            ],
            [
             0.2,
             "#de77ae"
            ],
            [
             0.3,
             "#f1b6da"
            ],
            [
             0.4,
             "#fde0ef"
            ],
            [
             0.5,
             "#f7f7f7"
            ],
            [
             0.6,
             "#e6f5d0"
            ],
            [
             0.7,
             "#b8e186"
            ],
            [
             0.8,
             "#7fbc41"
            ],
            [
             0.9,
             "#4d9221"
            ],
            [
             1,
             "#276419"
            ]
           ],
           "sequential": [
            [
             0,
             "#0d0887"
            ],
            [
             0.1111111111111111,
             "#46039f"
            ],
            [
             0.2222222222222222,
             "#7201a8"
            ],
            [
             0.3333333333333333,
             "#9c179e"
            ],
            [
             0.4444444444444444,
             "#bd3786"
            ],
            [
             0.5555555555555556,
             "#d8576b"
            ],
            [
             0.6666666666666666,
             "#ed7953"
            ],
            [
             0.7777777777777778,
             "#fb9f3a"
            ],
            [
             0.8888888888888888,
             "#fdca26"
            ],
            [
             1,
             "#f0f921"
            ]
           ],
           "sequentialminus": [
            [
             0,
             "#0d0887"
            ],
            [
             0.1111111111111111,
             "#46039f"
            ],
            [
             0.2222222222222222,
             "#7201a8"
            ],
            [
             0.3333333333333333,
             "#9c179e"
            ],
            [
             0.4444444444444444,
             "#bd3786"
            ],
            [
             0.5555555555555556,
             "#d8576b"
            ],
            [
             0.6666666666666666,
             "#ed7953"
            ],
            [
             0.7777777777777778,
             "#fb9f3a"
            ],
            [
             0.8888888888888888,
             "#fdca26"
            ],
            [
             1,
             "#f0f921"
            ]
           ]
          },
          "colorway": [
           "#636efa",
           "#EF553B",
           "#00cc96",
           "#ab63fa",
           "#FFA15A",
           "#19d3f3",
           "#FF6692",
           "#B6E880",
           "#FF97FF",
           "#FECB52"
          ],
          "font": {
           "color": "#2a3f5f"
          },
          "geo": {
           "bgcolor": "white",
           "lakecolor": "white",
           "landcolor": "#E5ECF6",
           "showlakes": true,
           "showland": true,
           "subunitcolor": "white"
          },
          "hoverlabel": {
           "align": "left"
          },
          "hovermode": "closest",
          "mapbox": {
           "style": "light"
          },
          "paper_bgcolor": "white",
          "plot_bgcolor": "#E5ECF6",
          "polar": {
           "angularaxis": {
            "gridcolor": "white",
            "linecolor": "white",
            "ticks": ""
           },
           "bgcolor": "#E5ECF6",
           "radialaxis": {
            "gridcolor": "white",
            "linecolor": "white",
            "ticks": ""
           }
          },
          "scene": {
           "xaxis": {
            "backgroundcolor": "#E5ECF6",
            "gridcolor": "white",
            "gridwidth": 2,
            "linecolor": "white",
            "showbackground": true,
            "ticks": "",
            "zerolinecolor": "white"
           },
           "yaxis": {
            "backgroundcolor": "#E5ECF6",
            "gridcolor": "white",
            "gridwidth": 2,
            "linecolor": "white",
            "showbackground": true,
            "ticks": "",
            "zerolinecolor": "white"
           },
           "zaxis": {
            "backgroundcolor": "#E5ECF6",
            "gridcolor": "white",
            "gridwidth": 2,
            "linecolor": "white",
            "showbackground": true,
            "ticks": "",
            "zerolinecolor": "white"
           }
          },
          "shapedefaults": {
           "line": {
            "color": "#2a3f5f"
           }
          },
          "ternary": {
           "aaxis": {
            "gridcolor": "white",
            "linecolor": "white",
            "ticks": ""
           },
           "baxis": {
            "gridcolor": "white",
            "linecolor": "white",
            "ticks": ""
           },
           "bgcolor": "#E5ECF6",
           "caxis": {
            "gridcolor": "white",
            "linecolor": "white",
            "ticks": ""
           }
          },
          "title": {
           "x": 0.05
          },
          "xaxis": {
           "automargin": true,
           "gridcolor": "white",
           "linecolor": "white",
           "ticks": "",
           "title": {
            "standoff": 15
           },
           "zerolinecolor": "white",
           "zerolinewidth": 2
          },
          "yaxis": {
           "automargin": true,
           "gridcolor": "white",
           "linecolor": "white",
           "ticks": "",
           "title": {
            "standoff": 15
           },
           "zerolinecolor": "white",
           "zerolinewidth": 2
          }
         }
        },
        "xaxis": {
         "anchor": "y",
         "autorange": true,
         "domain": [
          0,
          1
         ],
         "range": [
          0.08440232108317215,
          0.3715976789168278
         ],
         "title": {
          "text": "Support"
         },
         "type": "linear"
        },
        "yaxis": {
         "anchor": "x",
         "autorange": true,
         "domain": [
          0,
          1
         ],
         "range": [
          0.4934120378939974,
          0.7514794630101618
         ],
         "title": {
          "text": "Confidence"
         },
         "type": "linear"
        }
       }
      },
      "image/png": "[encoded data removed]",
      "text/html": [
       "<div>                            <div id=\"ffa2e9ea-8b5a-4bf0-9531-55ac33c24d47\" class=\"plotly-graph-div\" style=\"height:525px; width:100%;\"></div>            <script type=\"text/javascript\">                require([\"plotly\"], function(Plotly) {                    window.PLOTLYENV=window.PLOTLYENV || {};                                    if (document.getElementById(\"ffa2e9ea-8b5a-4bf0-9531-55ac33c24d47\")) {                    Plotly.newPlot(                        \"ffa2e9ea-8b5a-4bf0-9531-55ac33c24d47\",                        [{\"customdata\":[[[\"artichoke\"],[\"cosmetics\"]],[[\"avocado\"],[\"cosmetics\"]],[[\"banana\"],[\"cosmetics\"]],[[\"bourbon\"],[\"cosmetics\"]],[[\"choclate\"],[\"cosmetics\"]],[[\"coke\"],[\"cosmetics\"]],[[\"cracker\"],[\"cosmetics\"]],[[\"sardines\"],[\"cosmetics\"]],[[\"avocado\",\"artichoke\"],[\"cosmetics\"]],[[\"banana\",\"avocado\"],[\"cosmetics\"]],[[\"avocado\",\"bourbon\"],[\"cosmetics\"]],[[\"choclate\",\"avocado\"],[\"cosmetics\"]],[[\"cracker\",\"avocado\"],[\"cosmetics\"]],[[\"avocado\",\"sardines\"],[\"cosmetics\"]],[[\"banana\",\"bourbon\"],[\"cosmetics\"]],[[\"choclate\",\"banana\"],[\"cosmetics\"]],[[\"cracker\",\"banana\"],[\"cosmetics\"]],[[\"choclate\",\"bourbon\"],[\"cosmetics\"]],[[\"cracker\",\"bourbon\"],[\"cosmetics\"]],[[\"sardines\",\"bourbon\"],[\"cosmetics\"]],[[\"cracker\",\"choclate\"],[\"cosmetics\"]],[[\"choclate\",\"avocado\"],[\"cracker\",\"cosmetics\"]],[[\"cracker\",\"avocado\"],[\"cosmetics\",\"choclate\"]],[[\"cracker\",\"choclate\",\"avocado\"],[\"cosmetics\"]]],\"hovertemplate\":\"Support=%{x}\\u003cbr\\u003eConfidence=%{y}\\u003cbr\\u003eLHS=%{customdata[0]}\\u003cbr\\u003eRHS=%{customdata[1]}\\u003cbr\\u003eLift=%{marker.color}\\u003cextra\\u003e\\u003c\\u002fextra\\u003e\",\"legendgroup\":\"\",\"marker\":{\"color\":[0.9675998887549828,1.3554675601583914,0.9868015295423708,0.9750455865469035,1.0033864291985453,0.9528251599147121,1.0332197281309985,0.9716189294229071,1.3697336104288682,1.2472748616468219,1.2066958784061341,1.3399851570874908,1.3551644761268282,1.2821355776185153,0.975237449118046,1.0240914990266061,1.0250943086763982,0.9785630670178519,0.9653226405286996,0.9548218503442384,0.9648021574371135,2.9064439265795605,2.876243781094527,1.3106933686000377],\"coloraxis\":\"coloraxis\",\"symbol\":\"circle\"},\"mode\":\"markers\",\"name\":\"\",\"orientation\":\"v\",\"showlegend\":false,\"x\":[0.167,0.356,0.192,0.231,0.192,0.143,0.211,0.238,0.116,0.119,0.141,0.13,0.146,0.156,0.115,0.101,0.1,0.107,0.104,0.152,0.166,0.111,0.111,0.111],\"xaxis\":\"x\",\"y\":[0.5186335403726708,0.7265306122448979,0.5289256198347108,0.5226244343891403,0.5378151260504203,0.5107142857142857,0.5538057742782152,0.5207877461706782,0.7341772151898734,0.6685393258426966,0.646788990825688,0.7182320441988951,0.72636815920398,0.6872246696035242,0.5227272727272727,0.5489130434782609,0.5494505494505495,0.5245098039215687,0.5174129353233831,0.5117845117845118,0.5171339563862929,0.6132596685082873,0.5522388059701492,0.7025316455696202],\"yaxis\":\"y\",\"type\":\"scatter\"}],                        {\"template\":{\"data\":{\"histogram2dcontour\":[{\"type\":\"histogram2dcontour\",\"colorbar\":{\"outlinewidth\":0,\"ticks\":\"\"},\"colorscale\":[[0.0,\"#0d0887\"],[0.1111111111111111,\"#46039f\"],[0.2222222222222222,\"#7201a8\"],[0.3333333333333333,\"#9c179e\"],[0.4444444444444444,\"#bd3786\"],[0.5555555555555556,\"#d8576b\"],[0.6666666666666666,\"#ed7953\"],[0.7777777777777778,\"#fb9f3a\"],[0.8888888888888888,\"#fdca26\"],[1.0,\"#f0f921\"]]}],\"choropleth\":[{\"type\":\"choropleth\",\"colorbar\":{\"outlinewidth\":0,\"ticks\":\"\"}}],\"histogram2d\":[{\"type\":\"histogram2d\",\"colorbar\":{\"outlinewidth\":0,\"ticks\":\"\"},\"colorscale\":[[0.0,\"#0d0887\"],[0.1111111111111111,\"#46039f\"],[0.2222222222222222,\"#7201a8\"],[0.3333333333333333,\"#9c179e\"],[0.4444444444444444,\"#bd3786\"],[0.5555555555555556,\"#d8576b\"],[0.6666666666666666,\"#ed7953\"],[0.7777777777777778,\"#fb9f3a\"],[0.8888888888888888,\"#fdca26\"],[1.0,\"#f0f921\"]]}],\"heatmap\":[{\"type\":\"heatmap\",\"colorbar\":{\"outlinewidth\":0,\"ticks\":\"\"},\"colorscale\":[[0.0,\"#0d0887\"],[0.1111111111111111,\"#46039f\"],[0.2222222222222222,\"#7201a8\"],[0.3333333333333333,\"#9c179e\"],[0.4444444444444444,\"#bd3786\"],[0.5555555555555556,\"#d8576b\"],[0.6666666666666666,\"#ed7953\"],[0.7777777777777778,\"#fb9f3a\"],[0.8888888888888888,\"#fdca26\"],[1.0,\"#f0f921\"]]}],\"heatmapgl\":[{\"type\":\"heatmapgl\",\"colorbar\":{\"outlinewidth\":0,\"ticks\":\"\"},\"colorscale\":[[0.0,\"#0d0887\"],[0.1111111111111111,\"#46039f\"],[0.2222222222222222,\"#7201a8\"],[0.3333333333333333,\"#9c179e\"],[0.4444444444444444,\"#bd3786\"],[0.5555555555555556,\"#d8576b\"],[0.6666666666666666,\"#ed7953\"],[0.7777777777777778,\"#fb9f3a\"],[0.8888888888888888,\"#fdca26\"],[1.0,\"#f0f921\"]]}],\"contourcarpet\":[{\"type\":\"contourcarpet\",\"colorbar\":{\"outlinewidth\":0,\"ticks\":\"\"}}],\"contour\":[{\"type\":\"contour\",\"colorbar\":{\"outlinewidth\":0,\"ticks\":\"\"},\"colorscale\":[[0.0,\"#0d0887\"],[0.1111111111111111,\"#46039f\"],[0.2222222222222222,\"#7201a8\"],[0.3333333333333333,\"#9c179e\"],[0.4444444444444444,\"#bd3786\"],[0.5555555555555556,\"#d8576b\"],[0.6666666666666666,\"#ed7953\"],[0.7777777777777778,\"#fb9f3a\"],[0.8888888888888888,\"#fdca26\"],[1.0,\"#f0f921\"]]}],\"surface\":[{\"type\":\"surface\",\"colorbar\":{\"outlinewidth\":0,\"ticks\":\"\"},\"colorscale\":[[0.0,\"#0d0887\"],[0.1111111111111111,\"#46039f\"],[0.2222222222222222,\"#7201a8\"],[0.3333333333333333,\"#9c179e\"],[0.4444444444444444,\"#bd3786\"],[0.5555555555555556,\"#d8576b\"],[0.6666666666666666,\"#ed7953\"],[0.7777777777777778,\"#fb9f3a\"],[0.8888888888888888,\"#fdca26\"],[1.0,\"#f0f921\"]]}],\"mesh3d\":[{\"type\":\"mesh3d\",\"colorbar\":{\"outlinewidth\":0,\"ticks\":\"\"}}],\"scatter\":[{\"fillpattern\":{\"fillmode\":\"overlay\",\"size\":10,\"solidity\":0.2},\"type\":\"scatter\"}],\"parcoords\":[{\"type\":\"parcoords\",\"line\":{\"colorbar\":{\"outlinewidth\":0,\"ticks\":\"\"}}}],\"scatterpolargl\":[{\"type\":\"scatterpolargl\",\"marker\":{\"colorbar\":{\"outlinewidth\":0,\"ticks\":\"\"}}}],\"bar\":[{\"error_x\":{\"color\":\"#2a3f5f\"},\"error_y\":{\"color\":\"#2a3f5f\"},\"marker\":{\"line\":{\"color\":\"#E5ECF6\",\"width\":0.5},\"pattern\":{\"fillmode\":\"overlay\",\"size\":10,\"solidity\":0.2}},\"type\":\"bar\"}],\"scattergeo\":[{\"type\":\"scattergeo\",\"marker\":{\"colorbar\":{\"outlinewidth\":0,\"ticks\":\"\"}}}],\"scatterpolar\":[{\"type\":\"scatterpolar\",\"marker\":{\"colorbar\":{\"outlinewidth\":0,\"ticks\":\"\"}}}],\"histogram\":[{\"marker\":{\"pattern\":{\"fillmode\":\"overlay\",\"size\":10,\"solidity\":0.2}},\"type\":\"histogram\"}],\"scattergl\":[{\"type\":\"scattergl\",\"marker\":{\"colorbar\":{\"outlinewidth\":0,\"ticks\":\"\"}}}],\"scatter3d\":[{\"type\":\"scatter3d\",\"line\":{\"colorbar\":{\"outlinewidth\":0,\"ticks\":\"\"}},\"marker\":{\"colorbar\":{\"outlinewidth\":0,\"ticks\":\"\"}}}],\"scattermapbox\":[{\"type\":\"scattermapbox\",\"marker\":{\"colorbar\":{\"outlinewidth\":0,\"ticks\":\"\"}}}],\"scatterternary\":[{\"type\":\"scatterternary\",\"marker\":{\"colorbar\":{\"outlinewidth\":0,\"ticks\":\"\"}}}],\"scattercarpet\":[{\"type\":\"scattercarpet\",\"marker\":{\"colorbar\":{\"outlinewidth\":0,\"ticks\":\"\"}}}],\"carpet\":[{\"aaxis\":{\"endlinecolor\":\"#2a3f5f\",\"gridcolor\":\"white\",\"linecolor\":\"white\",\"minorgridcolor\":\"white\",\"startlinecolor\":\"#2a3f5f\"},\"baxis\":{\"endlinecolor\":\"#2a3f5f\",\"gridcolor\":\"white\",\"linecolor\":\"white\",\"minorgridcolor\":\"white\",\"startlinecolor\":\"#2a3f5f\"},\"type\":\"carpet\"}],\"table\":[{\"cells\":{\"fill\":{\"color\":\"#EBF0F8\"},\"line\":{\"color\":\"white\"}},\"header\":{\"fill\":{\"color\":\"#C8D4E3\"},\"line\":{\"color\":\"white\"}},\"type\":\"table\"}],\"barpolar\":[{\"marker\":{\"line\":{\"color\":\"#E5ECF6\",\"width\":0.5},\"pattern\":{\"fillmode\":\"overlay\",\"size\":10,\"solidity\":0.2}},\"type\":\"barpolar\"}],\"pie\":[{\"automargin\":true,\"type\":\"pie\"}]},\"layout\":{\"autotypenumbers\":\"strict\",\"colorway\":[\"#636efa\",\"#EF553B\",\"#00cc96\",\"#ab63fa\",\"#FFA15A\",\"#19d3f3\",\"#FF6692\",\"#B6E880\",\"#FF97FF\",\"#FECB52\"],\"font\":{\"color\":\"#2a3f5f\"},\"hovermode\":\"closest\",\"hoverlabel\":{\"align\":\"left\"},\"paper_bgcolor\":\"white\",\"plot_bgcolor\":\"#E5ECF6\",\"polar\":{\"bgcolor\":\"#E5ECF6\",\"angularaxis\":{\"gridcolor\":\"white\",\"linecolor\":\"white\",\"ticks\":\"\"},\"radialaxis\":{\"gridcolor\":\"white\",\"linecolor\":\"white\",\"ticks\":\"\"}},\"ternary\":{\"bgcolor\":\"#E5ECF6\",\"aaxis\":{\"gridcolor\":\"white\",\"linecolor\":\"white\",\"ticks\":\"\"},\"baxis\":{\"gridcolor\":\"white\",\"linecolor\":\"white\",\"ticks\":\"\"},\"caxis\":{\"gridcolor\":\"white\",\"linecolor\":\"white\",\"ticks\":\"\"}},\"coloraxis\":{\"colorbar\":{\"outlinewidth\":0,\"ticks\":\"\"}},\"colorscale\":{\"sequential\":[[0.0,\"#0d0887\"],[0.1111111111111111,\"#46039f\"],[0.2222222222222222,\"#7201a8\"],[0.3333333333333333,\"#9c179e\"],[0.4444444444444444,\"#bd3786\"],[0.5555555555555556,\"#d8576b\"],[0.6666666666666666,\"#ed7953\"],[0.7777777777777778,\"#fb9f3a\"],[0.8888888888888888,\"#fdca26\"],[1.0,\"#f0f921\"]],\"sequentialminus\":[[0.0,\"#0d0887\"],[0.1111111111111111,\"#46039f\"],[0.2222222222222222,\"#7201a8\"],[0.3333333333333333,\"#9c179e\"],[0.4444444444444444,\"#bd3786\"],[0.5555555555555556,\"#d8576b\"],[0.6666666666666666,\"#ed7953\"],[0.7777777777777778,\"#fb9f3a\"],[0.8888888888888888,\"#fdca26\"],[1.0,\"#f0f921\"]],\"diverging\":[[0,\"#8e0152\"],[0.1,\"#c51b7d\"],[0.2,\"#de77ae\"],[0.3,\"#f1b6da\"],[0.4,\"#fde0ef\"],[0.5,\"#f7f7f7\"],[0.6,\"#e6f5d0\"],[0.7,\"#b8e186\"],[0.8,\"#7fbc41\"],[0.9,\"#4d9221\"],[1,\"#276419\"]]},\"xaxis\":{\"gridcolor\":\"white\",\"linecolor\":\"white\",\"ticks\":\"\",\"title\":{\"standoff\":15},\"zerolinecolor\":\"white\",\"automargin\":true,\"zerolinewidth\":2},\"yaxis\":{\"gridcolor\":\"white\",\"linecolor\":\"white\",\"ticks\":\"\",\"title\":{\"standoff\":15},\"zerolinecolor\":\"white\",\"automargin\":true,\"zerolinewidth\":2},\"scene\":{\"xaxis\":{\"backgroundcolor\":\"#E5ECF6\",\"gridcolor\":\"white\",\"linecolor\":\"white\",\"showbackground\":true,\"ticks\":\"\",\"zerolinecolor\":\"white\",\"gridwidth\":2},\"yaxis\":{\"backgroundcolor\":\"#E5ECF6\",\"gridcolor\":\"white\",\"linecolor\":\"white\",\"showbackground\":true,\"ticks\":\"\",\"zerolinecolor\":\"white\",\"gridwidth\":2},\"zaxis\":{\"backgroundcolor\":\"#E5ECF6\",\"gridcolor\":\"white\",\"linecolor\":\"white\",\"showbackground\":true,\"ticks\":\"\",\"zerolinecolor\":\"white\",\"gridwidth\":2}},\"shapedefaults\":{\"line\":{\"color\":\"#2a3f5f\"}},\"annotationdefaults\":{\"arrowcolor\":\"#2a3f5f\",\"arrowhead\":0,\"arrowwidth\":1},\"geo\":{\"bgcolor\":\"white\",\"landcolor\":\"#E5ECF6\",\"subunitcolor\":\"white\",\"showland\":true,\"showlakes\":true,\"lakecolor\":\"white\"},\"title\":{\"x\":0.05},\"mapbox\":{\"style\":\"light\"}}},\"xaxis\":{\"anchor\":\"y\",\"domain\":[0.0,1.0],\"title\":{\"text\":\"Support\"}},\"yaxis\":{\"anchor\":\"x\",\"domain\":[0.0,1.0],\"title\":{\"text\":\"Confidence\"}},\"coloraxis\":{\"colorbar\":{\"title\":{\"text\":\"Lift\"}},\"colorscale\":[[0.0,\"rgb(75, 41, 145)\"],[0.16666666666666666,\"rgb(135, 44, 162)\"],[0.3333333333333333,\"rgb(192, 54, 157)\"],[0.5,\"rgb(234, 79, 136)\"],[0.6666666666666666,\"rgb(250, 120, 118)\"],[0.8333333333333334,\"rgb(246, 169, 122)\"],[1.0,\"rgb(237, 217, 163)\"]]},\"legend\":{\"tracegroupgap\":0},\"margin\":{\"t\":60}},                        {\"responsive\": true}                    ).then(function(){\n",
       "                            \n",
       "var gd = document.getElementById('ffa2e9ea-8b5a-4bf0-9531-55ac33c24d47');\n",
       "var x = new MutationObserver(function (mutations, observer) {{\n",
       "        var display = window.getComputedStyle(gd).display;\n",
       "        if (!display || display === 'none') {{\n",
       "            console.log([gd, 'removed!']);\n",
       "            Plotly.purge(gd);\n",
       "            observer.disconnect();\n",
       "        }}\n",
       "}});\n",
       "\n",
       "// Listen for the removal of the full notebook cells\n",
       "var notebookContainer = gd.closest('#notebook-container');\n",
       "if (notebookContainer) {{\n",
       "    x.observe(notebookContainer, {childList: true});\n",
       "}}\n",
       "\n",
       "// Listen for the clearing of the current output cell\n",
       "var outputEl = gd.closest('.output');\n",
       "if (outputEl) {{\n",
       "    x.observe(outputEl, {childList: true});\n",
       "}}\n",
       "\n",
       "                        })                };                });            </script>        </div>"
      ]
     },
     "metadata": {},
     "output_type": "display_data"
    }
   ],
   "source": [
    "rules_df=pd.DataFrame(associationRules,columns=['LHS','RHS','Support','Confidence','Lift'])\n",
    "import plotly.express as px\n",
    "\n",
    "fig=px.scatter(rules_df,x=\"Support\", y=\"Confidence\", color=\"Lift\",\n",
    "               hover_data=['LHS','RHS'], color_continuous_scale=\"agsunset\")\n",
    "fig.show()"
   ]
  },
  {
   "cell_type": "code",
   "execution_count": 176,
   "id": "cdc66a3f-061a-4bb2-86fb-6888f6a16d4a",
   "metadata": {},
   "outputs": [
    {
     "data": {
      "text/html": [
       "<div>\n",
       "<style scoped>\n",
       "    .dataframe tbody tr th:only-of-type {\n",
       "        vertical-align: middle;\n",
       "    }\n",
       "\n",
       "    .dataframe tbody tr th {\n",
       "        vertical-align: top;\n",
       "    }\n",
       "\n",
       "    .dataframe thead th {\n",
       "        text-align: right;\n",
       "    }\n",
       "</style>\n",
       "<table border=\"1\" class=\"dataframe\">\n",
       "  <thead>\n",
       "    <tr style=\"text-align: right;\">\n",
       "      <th></th>\n",
       "      <th>LHS</th>\n",
       "      <th>RHS</th>\n",
       "      <th>Support</th>\n",
       "      <th>Confidence</th>\n",
       "      <th>Lift</th>\n",
       "    </tr>\n",
       "  </thead>\n",
       "  <tbody>\n",
       "    <tr>\n",
       "      <th>1</th>\n",
       "      <td>avocado</td>\n",
       "      <td>cosmetics</td>\n",
       "      <td>0.356</td>\n",
       "      <td>0.726531</td>\n",
       "      <td>1.355468</td>\n",
       "    </tr>\n",
       "    <tr>\n",
       "      <th>8</th>\n",
       "      <td>avocado, artichoke</td>\n",
       "      <td>cosmetics</td>\n",
       "      <td>0.116</td>\n",
       "      <td>0.734177</td>\n",
       "      <td>1.369734</td>\n",
       "    </tr>\n",
       "    <tr>\n",
       "      <th>9</th>\n",
       "      <td>banana, avocado</td>\n",
       "      <td>cosmetics</td>\n",
       "      <td>0.119</td>\n",
       "      <td>0.668539</td>\n",
       "      <td>1.247275</td>\n",
       "    </tr>\n",
       "    <tr>\n",
       "      <th>10</th>\n",
       "      <td>avocado, bourbon</td>\n",
       "      <td>cosmetics</td>\n",
       "      <td>0.141</td>\n",
       "      <td>0.646789</td>\n",
       "      <td>1.206696</td>\n",
       "    </tr>\n",
       "    <tr>\n",
       "      <th>11</th>\n",
       "      <td>choclate, avocado</td>\n",
       "      <td>cosmetics</td>\n",
       "      <td>0.130</td>\n",
       "      <td>0.718232</td>\n",
       "      <td>1.339985</td>\n",
       "    </tr>\n",
       "    <tr>\n",
       "      <th>12</th>\n",
       "      <td>cracker, avocado</td>\n",
       "      <td>cosmetics</td>\n",
       "      <td>0.146</td>\n",
       "      <td>0.726368</td>\n",
       "      <td>1.355164</td>\n",
       "    </tr>\n",
       "    <tr>\n",
       "      <th>13</th>\n",
       "      <td>avocado, sardines</td>\n",
       "      <td>cosmetics</td>\n",
       "      <td>0.156</td>\n",
       "      <td>0.687225</td>\n",
       "      <td>1.282136</td>\n",
       "    </tr>\n",
       "    <tr>\n",
       "      <th>21</th>\n",
       "      <td>choclate, avocado</td>\n",
       "      <td>cracker, cosmetics</td>\n",
       "      <td>0.111</td>\n",
       "      <td>0.613260</td>\n",
       "      <td>2.906444</td>\n",
       "    </tr>\n",
       "    <tr>\n",
       "      <th>22</th>\n",
       "      <td>cracker, avocado</td>\n",
       "      <td>cosmetics, choclate</td>\n",
       "      <td>0.111</td>\n",
       "      <td>0.552239</td>\n",
       "      <td>2.876244</td>\n",
       "    </tr>\n",
       "    <tr>\n",
       "      <th>23</th>\n",
       "      <td>cracker, choclate, avocado</td>\n",
       "      <td>cosmetics</td>\n",
       "      <td>0.111</td>\n",
       "      <td>0.702532</td>\n",
       "      <td>1.310693</td>\n",
       "    </tr>\n",
       "  </tbody>\n",
       "</table>\n",
       "</div>"
      ],
      "text/plain": [
       "                           LHS                  RHS  Support  Confidence  \\\n",
       "1                      avocado            cosmetics    0.356    0.726531   \n",
       "8           avocado, artichoke            cosmetics    0.116    0.734177   \n",
       "9              banana, avocado            cosmetics    0.119    0.668539   \n",
       "10            avocado, bourbon            cosmetics    0.141    0.646789   \n",
       "11           choclate, avocado            cosmetics    0.130    0.718232   \n",
       "12            cracker, avocado            cosmetics    0.146    0.726368   \n",
       "13           avocado, sardines            cosmetics    0.156    0.687225   \n",
       "21           choclate, avocado   cracker, cosmetics    0.111    0.613260   \n",
       "22            cracker, avocado  cosmetics, choclate    0.111    0.552239   \n",
       "23  cracker, choclate, avocado            cosmetics    0.111    0.702532   \n",
       "\n",
       "        Lift  \n",
       "1   1.355468  \n",
       "8   1.369734  \n",
       "9   1.247275  \n",
       "10  1.206696  \n",
       "11  1.339985  \n",
       "12  1.355164  \n",
       "13  1.282136  \n",
       "21  2.906444  \n",
       "22  2.876244  \n",
       "23  1.310693  "
      ]
     },
     "execution_count": 176,
     "metadata": {},
     "output_type": "execute_result"
    }
   ],
   "source": [
    "rules_df = pd.DataFrame(\n",
    "    associationRules,\n",
    "    columns=['LHS', 'RHS', 'Support', 'Confidence', 'Lift']\n",
    ")\n",
    "\n",
    "rules_df['LHS'] = rules_df['LHS'].apply(lambda x: ', '.join(x))\n",
    "rules_df['RHS'] = rules_df['RHS'].apply(lambda x: ', '.join(x))\n",
    "\n",
    "\n",
    "\n",
    "rules_df[rules_df['LHS'].str.contains('avocado')]\n"
   ]
  },
  {
   "cell_type": "code",
   "execution_count": 177,
   "id": "580474be-6922-456d-9787-4f0c28ec4017",
   "metadata": {},
   "outputs": [
    {
     "data": {
      "text/html": [
       "<div>\n",
       "<style scoped>\n",
       "    .dataframe tbody tr th:only-of-type {\n",
       "        vertical-align: middle;\n",
       "    }\n",
       "\n",
       "    .dataframe tbody tr th {\n",
       "        vertical-align: top;\n",
       "    }\n",
       "\n",
       "    .dataframe thead th {\n",
       "        text-align: right;\n",
       "    }\n",
       "</style>\n",
       "<table border=\"1\" class=\"dataframe\">\n",
       "  <thead>\n",
       "    <tr style=\"text-align: right;\">\n",
       "      <th></th>\n",
       "      <th>LHS</th>\n",
       "      <th>RHS</th>\n",
       "      <th>Support</th>\n",
       "      <th>Confidence</th>\n",
       "      <th>Lift</th>\n",
       "    </tr>\n",
       "  </thead>\n",
       "  <tbody>\n",
       "    <tr>\n",
       "      <th>21</th>\n",
       "      <td>choclate, avocado</td>\n",
       "      <td>cracker, cosmetics</td>\n",
       "      <td>0.111</td>\n",
       "      <td>0.613260</td>\n",
       "      <td>2.906444</td>\n",
       "    </tr>\n",
       "    <tr>\n",
       "      <th>22</th>\n",
       "      <td>cracker, avocado</td>\n",
       "      <td>cosmetics, choclate</td>\n",
       "      <td>0.111</td>\n",
       "      <td>0.552239</td>\n",
       "      <td>2.876244</td>\n",
       "    </tr>\n",
       "    <tr>\n",
       "      <th>8</th>\n",
       "      <td>avocado, artichoke</td>\n",
       "      <td>cosmetics</td>\n",
       "      <td>0.116</td>\n",
       "      <td>0.734177</td>\n",
       "      <td>1.369734</td>\n",
       "    </tr>\n",
       "    <tr>\n",
       "      <th>1</th>\n",
       "      <td>avocado</td>\n",
       "      <td>cosmetics</td>\n",
       "      <td>0.356</td>\n",
       "      <td>0.726531</td>\n",
       "      <td>1.355468</td>\n",
       "    </tr>\n",
       "    <tr>\n",
       "      <th>12</th>\n",
       "      <td>cracker, avocado</td>\n",
       "      <td>cosmetics</td>\n",
       "      <td>0.146</td>\n",
       "      <td>0.726368</td>\n",
       "      <td>1.355164</td>\n",
       "    </tr>\n",
       "    <tr>\n",
       "      <th>11</th>\n",
       "      <td>choclate, avocado</td>\n",
       "      <td>cosmetics</td>\n",
       "      <td>0.130</td>\n",
       "      <td>0.718232</td>\n",
       "      <td>1.339985</td>\n",
       "    </tr>\n",
       "    <tr>\n",
       "      <th>23</th>\n",
       "      <td>cracker, choclate, avocado</td>\n",
       "      <td>cosmetics</td>\n",
       "      <td>0.111</td>\n",
       "      <td>0.702532</td>\n",
       "      <td>1.310693</td>\n",
       "    </tr>\n",
       "    <tr>\n",
       "      <th>13</th>\n",
       "      <td>avocado, sardines</td>\n",
       "      <td>cosmetics</td>\n",
       "      <td>0.156</td>\n",
       "      <td>0.687225</td>\n",
       "      <td>1.282136</td>\n",
       "    </tr>\n",
       "    <tr>\n",
       "      <th>9</th>\n",
       "      <td>banana, avocado</td>\n",
       "      <td>cosmetics</td>\n",
       "      <td>0.119</td>\n",
       "      <td>0.668539</td>\n",
       "      <td>1.247275</td>\n",
       "    </tr>\n",
       "    <tr>\n",
       "      <th>10</th>\n",
       "      <td>avocado, bourbon</td>\n",
       "      <td>cosmetics</td>\n",
       "      <td>0.141</td>\n",
       "      <td>0.646789</td>\n",
       "      <td>1.206696</td>\n",
       "    </tr>\n",
       "  </tbody>\n",
       "</table>\n",
       "</div>"
      ],
      "text/plain": [
       "                           LHS                  RHS  Support  Confidence  \\\n",
       "21           choclate, avocado   cracker, cosmetics    0.111    0.613260   \n",
       "22            cracker, avocado  cosmetics, choclate    0.111    0.552239   \n",
       "8           avocado, artichoke            cosmetics    0.116    0.734177   \n",
       "1                      avocado            cosmetics    0.356    0.726531   \n",
       "12            cracker, avocado            cosmetics    0.146    0.726368   \n",
       "11           choclate, avocado            cosmetics    0.130    0.718232   \n",
       "23  cracker, choclate, avocado            cosmetics    0.111    0.702532   \n",
       "13           avocado, sardines            cosmetics    0.156    0.687225   \n",
       "9              banana, avocado            cosmetics    0.119    0.668539   \n",
       "10            avocado, bourbon            cosmetics    0.141    0.646789   \n",
       "\n",
       "        Lift  \n",
       "21  2.906444  \n",
       "22  2.876244  \n",
       "8   1.369734  \n",
       "1   1.355468  \n",
       "12  1.355164  \n",
       "11  1.339985  \n",
       "23  1.310693  \n",
       "13  1.282136  \n",
       "9   1.247275  \n",
       "10  1.206696  "
      ]
     },
     "execution_count": 177,
     "metadata": {},
     "output_type": "execute_result"
    }
   ],
   "source": [
    "avocado_rules = rules_df[rules_df['LHS'].apply(lambda x: 'avocado' in x)]\n",
    "avocado_rules = avocado_rules.sort_values(by=['Lift'], ascending=False)\n",
    "avocado_rules.head(10)\n"
   ]
  },
  {
   "cell_type": "code",
   "execution_count": 178,
   "id": "cea1afef-7dbd-4c21-9b7a-6bc4c2571716",
   "metadata": {},
   "outputs": [
    {
     "data": {
      "application/vnd.plotly.v1+json": {
       "config": {
        "plotlyServerURL": "https://plot.ly"
       },
       "data": [
        {
         "customdata": [
          [
           "choclate, avocado",
           "cracker, cosmetics"
          ],
          [
           "cracker, avocado",
           "cosmetics, choclate"
          ],
          [
           "avocado, artichoke",
           "cosmetics"
          ],
          [
           "avocado",
           "cosmetics"
          ],
          [
           "cracker, avocado",
           "cosmetics"
          ],
          [
           "choclate, avocado",
           "cosmetics"
          ],
          [
           "cracker, choclate, avocado",
           "cosmetics"
          ],
          [
           "avocado, sardines",
           "cosmetics"
          ],
          [
           "banana, avocado",
           "cosmetics"
          ],
          [
           "avocado, bourbon",
           "cosmetics"
          ]
         ],
         "hovertemplate": "Support=%{x}<br>Confidence=%{y}<br>LHS=%{customdata[0]}<br>RHS=%{customdata[1]}<br>Lift=%{marker.color}<extra></extra>",
         "legendgroup": "",
         "marker": {
          "color": [
           2.9064439265795605,
           2.876243781094527,
           1.3697336104288682,
           1.3554675601583914,
           1.3551644761268282,
           1.3399851570874908,
           1.3106933686000377,
           1.2821355776185153,
           1.2472748616468219,
           1.2066958784061341
          ],
          "coloraxis": "coloraxis",
          "symbol": "circle"
         },
         "mode": "markers",
         "name": "",
         "orientation": "v",
         "showlegend": false,
         "type": "scatter",
         "x": [
          0.111,
          0.111,
          0.116,
          0.356,
          0.146,
          0.13,
          0.111,
          0.156,
          0.119,
          0.141
         ],
         "xaxis": "x",
         "y": [
          0.6132596685082873,
          0.5522388059701492,
          0.7341772151898734,
          0.7265306122448979,
          0.72636815920398,
          0.7182320441988951,
          0.7025316455696202,
          0.6872246696035242,
          0.6685393258426966,
          0.646788990825688
         ],
         "yaxis": "y"
        }
       ],
       "layout": {
        "autosize": true,
        "coloraxis": {
         "colorbar": {
          "title": {
           "text": "Lift"
          }
         },
         "colorscale": [
          [
           0,
           "rgb(75, 41, 145)"
          ],
          [
           0.16666666666666666,
           "rgb(135, 44, 162)"
          ],
          [
           0.3333333333333333,
           "rgb(192, 54, 157)"
          ],
          [
           0.5,
           "rgb(234, 79, 136)"
          ],
          [
           0.6666666666666666,
           "rgb(250, 120, 118)"
          ],
          [
           0.8333333333333334,
           "rgb(246, 169, 122)"
          ],
          [
           1,
           "rgb(237, 217, 163)"
          ]
         ]
        },
        "legend": {
         "tracegroupgap": 0
        },
        "margin": {
         "t": 60
        },
        "template": {
         "data": {
          "bar": [
           {
            "error_x": {
             "color": "#2a3f5f"
            },
            "error_y": {
             "color": "#2a3f5f"
            },
            "marker": {
             "line": {
              "color": "#E5ECF6",
              "width": 0.5
             },
             "pattern": {
              "fillmode": "overlay",
              "size": 10,
              "solidity": 0.2
             }
            },
            "type": "bar"
           }
          ],
          "barpolar": [
           {
            "marker": {
             "line": {
              "color": "#E5ECF6",
              "width": 0.5
             },
             "pattern": {
              "fillmode": "overlay",
              "size": 10,
              "solidity": 0.2
             }
            },
            "type": "barpolar"
           }
          ],
          "carpet": [
           {
            "aaxis": {
             "endlinecolor": "#2a3f5f",
             "gridcolor": "white",
             "linecolor": "white",
             "minorgridcolor": "white",
             "startlinecolor": "#2a3f5f"
            },
            "baxis": {
             "endlinecolor": "#2a3f5f",
             "gridcolor": "white",
             "linecolor": "white",
             "minorgridcolor": "white",
             "startlinecolor": "#2a3f5f"
            },
            "type": "carpet"
           }
          ],
          "choropleth": [
           {
            "colorbar": {
             "outlinewidth": 0,
             "ticks": ""
            },
            "type": "choropleth"
           }
          ],
          "contour": [
           {
            "colorbar": {
             "outlinewidth": 0,
             "ticks": ""
            },
            "colorscale": [
             [
              0,
              "#0d0887"
             ],
             [
              0.1111111111111111,
              "#46039f"
             ],
             [
              0.2222222222222222,
              "#7201a8"
             ],
             [
              0.3333333333333333,
              "#9c179e"
             ],
             [
              0.4444444444444444,
              "#bd3786"
             ],
             [
              0.5555555555555556,
              "#d8576b"
             ],
             [
              0.6666666666666666,
              "#ed7953"
             ],
             [
              0.7777777777777778,
              "#fb9f3a"
             ],
             [
              0.8888888888888888,
              "#fdca26"
             ],
             [
              1,
              "#f0f921"
             ]
            ],
            "type": "contour"
           }
          ],
          "contourcarpet": [
           {
            "colorbar": {
             "outlinewidth": 0,
             "ticks": ""
            },
            "type": "contourcarpet"
           }
          ],
          "heatmap": [
           {
            "colorbar": {
             "outlinewidth": 0,
             "ticks": ""
            },
            "colorscale": [
             [
              0,
              "#0d0887"
             ],
             [
              0.1111111111111111,
              "#46039f"
             ],
             [
              0.2222222222222222,
              "#7201a8"
             ],
             [
              0.3333333333333333,
              "#9c179e"
             ],
             [
              0.4444444444444444,
              "#bd3786"
             ],
             [
              0.5555555555555556,
              "#d8576b"
             ],
             [
              0.6666666666666666,
              "#ed7953"
             ],
             [
              0.7777777777777778,
              "#fb9f3a"
             ],
             [
              0.8888888888888888,
              "#fdca26"
             ],
             [
              1,
              "#f0f921"
             ]
            ],
            "type": "heatmap"
           }
          ],
          "heatmapgl": [
           {
            "colorbar": {
             "outlinewidth": 0,
             "ticks": ""
            },
            "colorscale": [
             [
              0,
              "#0d0887"
             ],
             [
              0.1111111111111111,
              "#46039f"
             ],
             [
              0.2222222222222222,
              "#7201a8"
             ],
             [
              0.3333333333333333,
              "#9c179e"
             ],
             [
              0.4444444444444444,
              "#bd3786"
             ],
             [
              0.5555555555555556,
              "#d8576b"
             ],
             [
              0.6666666666666666,
              "#ed7953"
             ],
             [
              0.7777777777777778,
              "#fb9f3a"
             ],
             [
              0.8888888888888888,
              "#fdca26"
             ],
             [
              1,
              "#f0f921"
             ]
            ],
            "type": "heatmapgl"
           }
          ],
          "histogram": [
           {
            "marker": {
             "pattern": {
              "fillmode": "overlay",
              "size": 10,
              "solidity": 0.2
             }
            },
            "type": "histogram"
           }
          ],
          "histogram2d": [
           {
            "colorbar": {
             "outlinewidth": 0,
             "ticks": ""
            },
            "colorscale": [
             [
              0,
              "#0d0887"
             ],
             [
              0.1111111111111111,
              "#46039f"
             ],
             [
              0.2222222222222222,
              "#7201a8"
             ],
             [
              0.3333333333333333,
              "#9c179e"
             ],
             [
              0.4444444444444444,
              "#bd3786"
             ],
             [
              0.5555555555555556,
              "#d8576b"
             ],
             [
              0.6666666666666666,
              "#ed7953"
             ],
             [
              0.7777777777777778,
              "#fb9f3a"
             ],
             [
              0.8888888888888888,
              "#fdca26"
             ],
             [
              1,
              "#f0f921"
             ]
            ],
            "type": "histogram2d"
           }
          ],
          "histogram2dcontour": [
           {
            "colorbar": {
             "outlinewidth": 0,
             "ticks": ""
            },
            "colorscale": [
             [
              0,
              "#0d0887"
             ],
             [
              0.1111111111111111,
              "#46039f"
             ],
             [
              0.2222222222222222,
              "#7201a8"
             ],
             [
              0.3333333333333333,
              "#9c179e"
             ],
             [
              0.4444444444444444,
              "#bd3786"
             ],
             [
              0.5555555555555556,
              "#d8576b"
             ],
             [
              0.6666666666666666,
              "#ed7953"
             ],
             [
              0.7777777777777778,
              "#fb9f3a"
             ],
             [
              0.8888888888888888,
              "#fdca26"
             ],
             [
              1,
              "#f0f921"
             ]
            ],
            "type": "histogram2dcontour"
           }
          ],
          "mesh3d": [
           {
            "colorbar": {
             "outlinewidth": 0,
             "ticks": ""
            },
            "type": "mesh3d"
           }
          ],
          "parcoords": [
           {
            "line": {
             "colorbar": {
              "outlinewidth": 0,
              "ticks": ""
             }
            },
            "type": "parcoords"
           }
          ],
          "pie": [
           {
            "automargin": true,
            "type": "pie"
           }
          ],
          "scatter": [
           {
            "fillpattern": {
             "fillmode": "overlay",
             "size": 10,
             "solidity": 0.2
            },
            "type": "scatter"
           }
          ],
          "scatter3d": [
           {
            "line": {
             "colorbar": {
              "outlinewidth": 0,
              "ticks": ""
             }
            },
            "marker": {
             "colorbar": {
              "outlinewidth": 0,
              "ticks": ""
             }
            },
            "type": "scatter3d"
           }
          ],
          "scattercarpet": [
           {
            "marker": {
             "colorbar": {
              "outlinewidth": 0,
              "ticks": ""
             }
            },
            "type": "scattercarpet"
           }
          ],
          "scattergeo": [
           {
            "marker": {
             "colorbar": {
              "outlinewidth": 0,
              "ticks": ""
             }
            },
            "type": "scattergeo"
           }
          ],
          "scattergl": [
           {
            "marker": {
             "colorbar": {
              "outlinewidth": 0,
              "ticks": ""
             }
            },
            "type": "scattergl"
           }
          ],
          "scattermapbox": [
           {
            "marker": {
             "colorbar": {
              "outlinewidth": 0,
              "ticks": ""
             }
            },
            "type": "scattermapbox"
           }
          ],
          "scatterpolar": [
           {
            "marker": {
             "colorbar": {
              "outlinewidth": 0,
              "ticks": ""
             }
            },
            "type": "scatterpolar"
           }
          ],
          "scatterpolargl": [
           {
            "marker": {
             "colorbar": {
              "outlinewidth": 0,
              "ticks": ""
             }
            },
            "type": "scatterpolargl"
           }
          ],
          "scatterternary": [
           {
            "marker": {
             "colorbar": {
              "outlinewidth": 0,
              "ticks": ""
             }
            },
            "type": "scatterternary"
           }
          ],
          "surface": [
           {
            "colorbar": {
             "outlinewidth": 0,
             "ticks": ""
            },
            "colorscale": [
             [
              0,
              "#0d0887"
             ],
             [
              0.1111111111111111,
              "#46039f"
             ],
             [
              0.2222222222222222,
              "#7201a8"
             ],
             [
              0.3333333333333333,
              "#9c179e"
             ],
             [
              0.4444444444444444,
              "#bd3786"
             ],
             [
              0.5555555555555556,
              "#d8576b"
             ],
             [
              0.6666666666666666,
              "#ed7953"
             ],
             [
              0.7777777777777778,
              "#fb9f3a"
             ],
             [
              0.8888888888888888,
              "#fdca26"
             ],
             [
              1,
              "#f0f921"
             ]
            ],
            "type": "surface"
           }
          ],
          "table": [
           {
            "cells": {
             "fill": {
              "color": "#EBF0F8"
             },
             "line": {
              "color": "white"
             }
            },
            "header": {
             "fill": {
              "color": "#C8D4E3"
             },
             "line": {
              "color": "white"
             }
            },
            "type": "table"
           }
          ]
         },
         "layout": {
          "annotationdefaults": {
           "arrowcolor": "#2a3f5f",
           "arrowhead": 0,
           "arrowwidth": 1
          },
          "autotypenumbers": "strict",
          "coloraxis": {
           "colorbar": {
            "outlinewidth": 0,
            "ticks": ""
           }
          },
          "colorscale": {
           "diverging": [
            [
             0,
             "#8e0152"
            ],
            [
             0.1,
             "#c51b7d"
            ],
            [
             0.2,
             "#de77ae"
            ],
            [
             0.3,
             "#f1b6da"
            ],
            [
             0.4,
             "#fde0ef"
            ],
            [
             0.5,
             "#f7f7f7"
            ],
            [
             0.6,
             "#e6f5d0"
            ],
            [
             0.7,
             "#b8e186"
            ],
            [
             0.8,
             "#7fbc41"
            ],
            [
             0.9,
             "#4d9221"
            ],
            [
             1,
             "#276419"
            ]
           ],
           "sequential": [
            [
             0,
             "#0d0887"
            ],
            [
             0.1111111111111111,
             "#46039f"
            ],
            [
             0.2222222222222222,
             "#7201a8"
            ],
            [
             0.3333333333333333,
             "#9c179e"
            ],
            [
             0.4444444444444444,
             "#bd3786"
            ],
            [
             0.5555555555555556,
             "#d8576b"
            ],
            [
             0.6666666666666666,
             "#ed7953"
            ],
            [
             0.7777777777777778,
             "#fb9f3a"
            ],
            [
             0.8888888888888888,
             "#fdca26"
            ],
            [
             1,
             "#f0f921"
            ]
           ],
           "sequentialminus": [
            [
             0,
             "#0d0887"
            ],
            [
             0.1111111111111111,
             "#46039f"
            ],
            [
             0.2222222222222222,
             "#7201a8"
            ],
            [
             0.3333333333333333,
             "#9c179e"
            ],
            [
             0.4444444444444444,
             "#bd3786"
            ],
            [
             0.5555555555555556,
             "#d8576b"
            ],
            [
             0.6666666666666666,
             "#ed7953"
            ],
            [
             0.7777777777777778,
             "#fb9f3a"
            ],
            [
             0.8888888888888888,
             "#fdca26"
            ],
            [
             1,
             "#f0f921"
            ]
           ]
          },
          "colorway": [
           "#636efa",
           "#EF553B",
           "#00cc96",
           "#ab63fa",
           "#FFA15A",
           "#19d3f3",
           "#FF6692",
           "#B6E880",
           "#FF97FF",
           "#FECB52"
          ],
          "font": {
           "color": "#2a3f5f"
          },
          "geo": {
           "bgcolor": "white",
           "lakecolor": "white",
           "landcolor": "#E5ECF6",
           "showlakes": true,
           "showland": true,
           "subunitcolor": "white"
          },
          "hoverlabel": {
           "align": "left"
          },
          "hovermode": "closest",
          "mapbox": {
           "style": "light"
          },
          "paper_bgcolor": "white",
          "plot_bgcolor": "#E5ECF6",
          "polar": {
           "angularaxis": {
            "gridcolor": "white",
            "linecolor": "white",
            "ticks": ""
           },
           "bgcolor": "#E5ECF6",
           "radialaxis": {
            "gridcolor": "white",
            "linecolor": "white",
            "ticks": ""
           }
          },
          "scene": {
           "xaxis": {
            "backgroundcolor": "#E5ECF6",
            "gridcolor": "white",
            "gridwidth": 2,
            "linecolor": "white",
            "showbackground": true,
            "ticks": "",
            "zerolinecolor": "white"
           },
           "yaxis": {
            "backgroundcolor": "#E5ECF6",
            "gridcolor": "white",
            "gridwidth": 2,
            "linecolor": "white",
            "showbackground": true,
            "ticks": "",
            "zerolinecolor": "white"
           },
           "zaxis": {
            "backgroundcolor": "#E5ECF6",
            "gridcolor": "white",
            "gridwidth": 2,
            "linecolor": "white",
            "showbackground": true,
            "ticks": "",
            "zerolinecolor": "white"
           }
          },
          "shapedefaults": {
           "line": {
            "color": "#2a3f5f"
           }
          },
          "ternary": {
           "aaxis": {
            "gridcolor": "white",
            "linecolor": "white",
            "ticks": ""
           },
           "baxis": {
            "gridcolor": "white",
            "linecolor": "white",
            "ticks": ""
           },
           "bgcolor": "#E5ECF6",
           "caxis": {
            "gridcolor": "white",
            "linecolor": "white",
            "ticks": ""
           }
          },
          "title": {
           "x": 0.05
          },
          "xaxis": {
           "automargin": true,
           "gridcolor": "white",
           "linecolor": "white",
           "ticks": "",
           "title": {
            "standoff": 15
           },
           "zerolinecolor": "white",
           "zerolinewidth": 2
          },
          "yaxis": {
           "automargin": true,
           "gridcolor": "white",
           "linecolor": "white",
           "ticks": "",
           "title": {
            "standoff": 15
           },
           "zerolinecolor": "white",
           "zerolinewidth": 2
          }
         }
        },
        "xaxis": {
         "anchor": "y",
         "autorange": true,
         "domain": [
          0,
          1
         ],
         "range": [
          0.09607253384912959,
          0.3709274661508704
         ],
         "title": {
          "text": "Support"
         },
         "type": "linear"
        },
        "yaxis": {
         "anchor": "x",
         "autorange": true,
         "domain": [
          0,
          1
         ],
         "range": [
          0.5381517112930314,
          0.7482643098669912
         ],
         "title": {
          "text": "Confidence"
         },
         "type": "linear"
        }
       }
      },
      "image/png": "[encoded data removed]",
      "text/html": [
       "<div>                            <div id=\"8881bc55-3241-40ec-b0b8-a39dafd79897\" class=\"plotly-graph-div\" style=\"height:525px; width:100%;\"></div>            <script type=\"text/javascript\">                require([\"plotly\"], function(Plotly) {                    window.PLOTLYENV=window.PLOTLYENV || {};                                    if (document.getElementById(\"8881bc55-3241-40ec-b0b8-a39dafd79897\")) {                    Plotly.newPlot(                        \"8881bc55-3241-40ec-b0b8-a39dafd79897\",                        [{\"customdata\":[[\"choclate, avocado\",\"cracker, cosmetics\"],[\"cracker, avocado\",\"cosmetics, choclate\"],[\"avocado, artichoke\",\"cosmetics\"],[\"avocado\",\"cosmetics\"],[\"cracker, avocado\",\"cosmetics\"],[\"choclate, avocado\",\"cosmetics\"],[\"cracker, choclate, avocado\",\"cosmetics\"],[\"avocado, sardines\",\"cosmetics\"],[\"banana, avocado\",\"cosmetics\"],[\"avocado, bourbon\",\"cosmetics\"]],\"hovertemplate\":\"Support=%{x}\\u003cbr\\u003eConfidence=%{y}\\u003cbr\\u003eLHS=%{customdata[0]}\\u003cbr\\u003eRHS=%{customdata[1]}\\u003cbr\\u003eLift=%{marker.color}\\u003cextra\\u003e\\u003c\\u002fextra\\u003e\",\"legendgroup\":\"\",\"marker\":{\"color\":[2.9064439265795605,2.876243781094527,1.3697336104288682,1.3554675601583914,1.3551644761268282,1.3399851570874908,1.3106933686000377,1.2821355776185153,1.2472748616468219,1.2066958784061341],\"coloraxis\":\"coloraxis\",\"symbol\":\"circle\"},\"mode\":\"markers\",\"name\":\"\",\"orientation\":\"v\",\"showlegend\":false,\"x\":[0.111,0.111,0.116,0.356,0.146,0.13,0.111,0.156,0.119,0.141],\"xaxis\":\"x\",\"y\":[0.6132596685082873,0.5522388059701492,0.7341772151898734,0.7265306122448979,0.72636815920398,0.7182320441988951,0.7025316455696202,0.6872246696035242,0.6685393258426966,0.646788990825688],\"yaxis\":\"y\",\"type\":\"scatter\"}],                        {\"template\":{\"data\":{\"histogram2dcontour\":[{\"type\":\"histogram2dcontour\",\"colorbar\":{\"outlinewidth\":0,\"ticks\":\"\"},\"colorscale\":[[0.0,\"#0d0887\"],[0.1111111111111111,\"#46039f\"],[0.2222222222222222,\"#7201a8\"],[0.3333333333333333,\"#9c179e\"],[0.4444444444444444,\"#bd3786\"],[0.5555555555555556,\"#d8576b\"],[0.6666666666666666,\"#ed7953\"],[0.7777777777777778,\"#fb9f3a\"],[0.8888888888888888,\"#fdca26\"],[1.0,\"#f0f921\"]]}],\"choropleth\":[{\"type\":\"choropleth\",\"colorbar\":{\"outlinewidth\":0,\"ticks\":\"\"}}],\"histogram2d\":[{\"type\":\"histogram2d\",\"colorbar\":{\"outlinewidth\":0,\"ticks\":\"\"},\"colorscale\":[[0.0,\"#0d0887\"],[0.1111111111111111,\"#46039f\"],[0.2222222222222222,\"#7201a8\"],[0.3333333333333333,\"#9c179e\"],[0.4444444444444444,\"#bd3786\"],[0.5555555555555556,\"#d8576b\"],[0.6666666666666666,\"#ed7953\"],[0.7777777777777778,\"#fb9f3a\"],[0.8888888888888888,\"#fdca26\"],[1.0,\"#f0f921\"]]}],\"heatmap\":[{\"type\":\"heatmap\",\"colorbar\":{\"outlinewidth\":0,\"ticks\":\"\"},\"colorscale\":[[0.0,\"#0d0887\"],[0.1111111111111111,\"#46039f\"],[0.2222222222222222,\"#7201a8\"],[0.3333333333333333,\"#9c179e\"],[0.4444444444444444,\"#bd3786\"],[0.5555555555555556,\"#d8576b\"],[0.6666666666666666,\"#ed7953\"],[0.7777777777777778,\"#fb9f3a\"],[0.8888888888888888,\"#fdca26\"],[1.0,\"#f0f921\"]]}],\"heatmapgl\":[{\"type\":\"heatmapgl\",\"colorbar\":{\"outlinewidth\":0,\"ticks\":\"\"},\"colorscale\":[[0.0,\"#0d0887\"],[0.1111111111111111,\"#46039f\"],[0.2222222222222222,\"#7201a8\"],[0.3333333333333333,\"#9c179e\"],[0.4444444444444444,\"#bd3786\"],[0.5555555555555556,\"#d8576b\"],[0.6666666666666666,\"#ed7953\"],[0.7777777777777778,\"#fb9f3a\"],[0.8888888888888888,\"#fdca26\"],[1.0,\"#f0f921\"]]}],\"contourcarpet\":[{\"type\":\"contourcarpet\",\"colorbar\":{\"outlinewidth\":0,\"ticks\":\"\"}}],\"contour\":[{\"type\":\"contour\",\"colorbar\":{\"outlinewidth\":0,\"ticks\":\"\"},\"colorscale\":[[0.0,\"#0d0887\"],[0.1111111111111111,\"#46039f\"],[0.2222222222222222,\"#7201a8\"],[0.3333333333333333,\"#9c179e\"],[0.4444444444444444,\"#bd3786\"],[0.5555555555555556,\"#d8576b\"],[0.6666666666666666,\"#ed7953\"],[0.7777777777777778,\"#fb9f3a\"],[0.8888888888888888,\"#fdca26\"],[1.0,\"#f0f921\"]]}],\"surface\":[{\"type\":\"surface\",\"colorbar\":{\"outlinewidth\":0,\"ticks\":\"\"},\"colorscale\":[[0.0,\"#0d0887\"],[0.1111111111111111,\"#46039f\"],[0.2222222222222222,\"#7201a8\"],[0.3333333333333333,\"#9c179e\"],[0.4444444444444444,\"#bd3786\"],[0.5555555555555556,\"#d8576b\"],[0.6666666666666666,\"#ed7953\"],[0.7777777777777778,\"#fb9f3a\"],[0.8888888888888888,\"#fdca26\"],[1.0,\"#f0f921\"]]}],\"mesh3d\":[{\"type\":\"mesh3d\",\"colorbar\":{\"outlinewidth\":0,\"ticks\":\"\"}}],\"scatter\":[{\"fillpattern\":{\"fillmode\":\"overlay\",\"size\":10,\"solidity\":0.2},\"type\":\"scatter\"}],\"parcoords\":[{\"type\":\"parcoords\",\"line\":{\"colorbar\":{\"outlinewidth\":0,\"ticks\":\"\"}}}],\"scatterpolargl\":[{\"type\":\"scatterpolargl\",\"marker\":{\"colorbar\":{\"outlinewidth\":0,\"ticks\":\"\"}}}],\"bar\":[{\"error_x\":{\"color\":\"#2a3f5f\"},\"error_y\":{\"color\":\"#2a3f5f\"},\"marker\":{\"line\":{\"color\":\"#E5ECF6\",\"width\":0.5},\"pattern\":{\"fillmode\":\"overlay\",\"size\":10,\"solidity\":0.2}},\"type\":\"bar\"}],\"scattergeo\":[{\"type\":\"scattergeo\",\"marker\":{\"colorbar\":{\"outlinewidth\":0,\"ticks\":\"\"}}}],\"scatterpolar\":[{\"type\":\"scatterpolar\",\"marker\":{\"colorbar\":{\"outlinewidth\":0,\"ticks\":\"\"}}}],\"histogram\":[{\"marker\":{\"pattern\":{\"fillmode\":\"overlay\",\"size\":10,\"solidity\":0.2}},\"type\":\"histogram\"}],\"scattergl\":[{\"type\":\"scattergl\",\"marker\":{\"colorbar\":{\"outlinewidth\":0,\"ticks\":\"\"}}}],\"scatter3d\":[{\"type\":\"scatter3d\",\"line\":{\"colorbar\":{\"outlinewidth\":0,\"ticks\":\"\"}},\"marker\":{\"colorbar\":{\"outlinewidth\":0,\"ticks\":\"\"}}}],\"scattermapbox\":[{\"type\":\"scattermapbox\",\"marker\":{\"colorbar\":{\"outlinewidth\":0,\"ticks\":\"\"}}}],\"scatterternary\":[{\"type\":\"scatterternary\",\"marker\":{\"colorbar\":{\"outlinewidth\":0,\"ticks\":\"\"}}}],\"scattercarpet\":[{\"type\":\"scattercarpet\",\"marker\":{\"colorbar\":{\"outlinewidth\":0,\"ticks\":\"\"}}}],\"carpet\":[{\"aaxis\":{\"endlinecolor\":\"#2a3f5f\",\"gridcolor\":\"white\",\"linecolor\":\"white\",\"minorgridcolor\":\"white\",\"startlinecolor\":\"#2a3f5f\"},\"baxis\":{\"endlinecolor\":\"#2a3f5f\",\"gridcolor\":\"white\",\"linecolor\":\"white\",\"minorgridcolor\":\"white\",\"startlinecolor\":\"#2a3f5f\"},\"type\":\"carpet\"}],\"table\":[{\"cells\":{\"fill\":{\"color\":\"#EBF0F8\"},\"line\":{\"color\":\"white\"}},\"header\":{\"fill\":{\"color\":\"#C8D4E3\"},\"line\":{\"color\":\"white\"}},\"type\":\"table\"}],\"barpolar\":[{\"marker\":{\"line\":{\"color\":\"#E5ECF6\",\"width\":0.5},\"pattern\":{\"fillmode\":\"overlay\",\"size\":10,\"solidity\":0.2}},\"type\":\"barpolar\"}],\"pie\":[{\"automargin\":true,\"type\":\"pie\"}]},\"layout\":{\"autotypenumbers\":\"strict\",\"colorway\":[\"#636efa\",\"#EF553B\",\"#00cc96\",\"#ab63fa\",\"#FFA15A\",\"#19d3f3\",\"#FF6692\",\"#B6E880\",\"#FF97FF\",\"#FECB52\"],\"font\":{\"color\":\"#2a3f5f\"},\"hovermode\":\"closest\",\"hoverlabel\":{\"align\":\"left\"},\"paper_bgcolor\":\"white\",\"plot_bgcolor\":\"#E5ECF6\",\"polar\":{\"bgcolor\":\"#E5ECF6\",\"angularaxis\":{\"gridcolor\":\"white\",\"linecolor\":\"white\",\"ticks\":\"\"},\"radialaxis\":{\"gridcolor\":\"white\",\"linecolor\":\"white\",\"ticks\":\"\"}},\"ternary\":{\"bgcolor\":\"#E5ECF6\",\"aaxis\":{\"gridcolor\":\"white\",\"linecolor\":\"white\",\"ticks\":\"\"},\"baxis\":{\"gridcolor\":\"white\",\"linecolor\":\"white\",\"ticks\":\"\"},\"caxis\":{\"gridcolor\":\"white\",\"linecolor\":\"white\",\"ticks\":\"\"}},\"coloraxis\":{\"colorbar\":{\"outlinewidth\":0,\"ticks\":\"\"}},\"colorscale\":{\"sequential\":[[0.0,\"#0d0887\"],[0.1111111111111111,\"#46039f\"],[0.2222222222222222,\"#7201a8\"],[0.3333333333333333,\"#9c179e\"],[0.4444444444444444,\"#bd3786\"],[0.5555555555555556,\"#d8576b\"],[0.6666666666666666,\"#ed7953\"],[0.7777777777777778,\"#fb9f3a\"],[0.8888888888888888,\"#fdca26\"],[1.0,\"#f0f921\"]],\"sequentialminus\":[[0.0,\"#0d0887\"],[0.1111111111111111,\"#46039f\"],[0.2222222222222222,\"#7201a8\"],[0.3333333333333333,\"#9c179e\"],[0.4444444444444444,\"#bd3786\"],[0.5555555555555556,\"#d8576b\"],[0.6666666666666666,\"#ed7953\"],[0.7777777777777778,\"#fb9f3a\"],[0.8888888888888888,\"#fdca26\"],[1.0,\"#f0f921\"]],\"diverging\":[[0,\"#8e0152\"],[0.1,\"#c51b7d\"],[0.2,\"#de77ae\"],[0.3,\"#f1b6da\"],[0.4,\"#fde0ef\"],[0.5,\"#f7f7f7\"],[0.6,\"#e6f5d0\"],[0.7,\"#b8e186\"],[0.8,\"#7fbc41\"],[0.9,\"#4d9221\"],[1,\"#276419\"]]},\"xaxis\":{\"gridcolor\":\"white\",\"linecolor\":\"white\",\"ticks\":\"\",\"title\":{\"standoff\":15},\"zerolinecolor\":\"white\",\"automargin\":true,\"zerolinewidth\":2},\"yaxis\":{\"gridcolor\":\"white\",\"linecolor\":\"white\",\"ticks\":\"\",\"title\":{\"standoff\":15},\"zerolinecolor\":\"white\",\"automargin\":true,\"zerolinewidth\":2},\"scene\":{\"xaxis\":{\"backgroundcolor\":\"#E5ECF6\",\"gridcolor\":\"white\",\"linecolor\":\"white\",\"showbackground\":true,\"ticks\":\"\",\"zerolinecolor\":\"white\",\"gridwidth\":2},\"yaxis\":{\"backgroundcolor\":\"#E5ECF6\",\"gridcolor\":\"white\",\"linecolor\":\"white\",\"showbackground\":true,\"ticks\":\"\",\"zerolinecolor\":\"white\",\"gridwidth\":2},\"zaxis\":{\"backgroundcolor\":\"#E5ECF6\",\"gridcolor\":\"white\",\"linecolor\":\"white\",\"showbackground\":true,\"ticks\":\"\",\"zerolinecolor\":\"white\",\"gridwidth\":2}},\"shapedefaults\":{\"line\":{\"color\":\"#2a3f5f\"}},\"annotationdefaults\":{\"arrowcolor\":\"#2a3f5f\",\"arrowhead\":0,\"arrowwidth\":1},\"geo\":{\"bgcolor\":\"white\",\"landcolor\":\"#E5ECF6\",\"subunitcolor\":\"white\",\"showland\":true,\"showlakes\":true,\"lakecolor\":\"white\"},\"title\":{\"x\":0.05},\"mapbox\":{\"style\":\"light\"}}},\"xaxis\":{\"anchor\":\"y\",\"domain\":[0.0,1.0],\"title\":{\"text\":\"Support\"}},\"yaxis\":{\"anchor\":\"x\",\"domain\":[0.0,1.0],\"title\":{\"text\":\"Confidence\"}},\"coloraxis\":{\"colorbar\":{\"title\":{\"text\":\"Lift\"}},\"colorscale\":[[0.0,\"rgb(75, 41, 145)\"],[0.16666666666666666,\"rgb(135, 44, 162)\"],[0.3333333333333333,\"rgb(192, 54, 157)\"],[0.5,\"rgb(234, 79, 136)\"],[0.6666666666666666,\"rgb(250, 120, 118)\"],[0.8333333333333334,\"rgb(246, 169, 122)\"],[1.0,\"rgb(237, 217, 163)\"]]},\"legend\":{\"tracegroupgap\":0},\"margin\":{\"t\":60}},                        {\"responsive\": true}                    ).then(function(){\n",
       "                            \n",
       "var gd = document.getElementById('8881bc55-3241-40ec-b0b8-a39dafd79897');\n",
       "var x = new MutationObserver(function (mutations, observer) {{\n",
       "        var display = window.getComputedStyle(gd).display;\n",
       "        if (!display || display === 'none') {{\n",
       "            console.log([gd, 'removed!']);\n",
       "            Plotly.purge(gd);\n",
       "            observer.disconnect();\n",
       "        }}\n",
       "}});\n",
       "\n",
       "// Listen for the removal of the full notebook cells\n",
       "var notebookContainer = gd.closest('#notebook-container');\n",
       "if (notebookContainer) {{\n",
       "    x.observe(notebookContainer, {childList: true});\n",
       "}}\n",
       "\n",
       "// Listen for the clearing of the current output cell\n",
       "var outputEl = gd.closest('.output');\n",
       "if (outputEl) {{\n",
       "    x.observe(outputEl, {childList: true});\n",
       "}}\n",
       "\n",
       "                        })                };                });            </script>        </div>"
      ]
     },
     "metadata": {},
     "output_type": "display_data"
    }
   ],
   "source": [
    "import plotly.express as px\n",
    "\n",
    "fig = px.scatter(\n",
    "    avocado_rules,\n",
    "    x=\"Support\",\n",
    "    y=\"Confidence\",\n",
    "    color=\"Lift\",\n",
    "    hover_data=['LHS','RHS'],\n",
    "    color_continuous_scale=\"agsunset\"\n",
    ")\n",
    "\n",
    "fig.show()\n"
   ]
  },
  {
   "cell_type": "markdown",
   "id": "ec9ea188-b841-4dc2-a314-b53f41af4b9e",
   "metadata": {},
   "source": [
    "### **5. Displaying and Filtering the Rules**\n",
    "\n",
    "The `apriori` algorithm can find many rules. We'll sort them by **Lift**, which is the most important metric for finding non-obvious relationships. A lift value greater than 1 means the items are more likely to be bought together than if they were bought by chance.\n",
    "\n",
    "We'll also look at a specific item, like **avocado**, to see all the rules it is involved in."
   ]
  },
  {
   "cell_type": "code",
   "execution_count": 236,
   "id": "18571fd1-7022-4268-a429-86aa9a02d0ef",
   "metadata": {},
   "outputs": [
    {
     "data": {
      "image/png": "[encoded data removed]",
      "text/plain": [
       "<Figure size 1800x1200 with 2 Axes>"
      ]
     },
     "metadata": {},
     "output_type": "display_data"
    }
   ],
   "source": [
    "import networkx as nx\n",
    "from apyori import apriori\n",
    "\n",
    "transactions = []\n",
    "for i in range(len(store_data)):\n",
    "    transactions.append([item for item, purchased in store_data.iloc[i].items() if purchased == 'Yes'])\n",
    "\n",
    "\n",
    "results = list(apriori(transactions, min_support=0.2, min_confidence=0.6, min_lift=1.0))\n",
    "\n",
    "Rules_df = pd.DataFrame(\n",
    "    [\n",
    "        (\n",
    "            list(result[2][0][0]),  # antecedent\n",
    "            list(result[2][0][1]),  # consequent\n",
    "            result[1],              # support\n",
    "            result[2][0][2],        # confidence\n",
    "            result[2][0][3]         # lift\n",
    "        )\n",
    "        for result in results\n",
    "        if result[2]  \n",
    "    ],\n",
    "    columns=['antecedents', 'consequents', 'support', 'confidence', 'lift']\n",
    ")\n",
    "\n",
    "if Rules_df.empty:\n",
    "    print(\"No association rules were found with the given parameters. Try adjusting the min_support, min_confidence, or min_lift values.\")\n",
    "else:\n",
    "   \n",
    "    G = nx.DiGraph()\n",
    "\n",
    "    for index, row in Rules_df.iterrows():\n",
    "        antecedent = ', '.join(list(row['antecedents']))\n",
    "        consequent = ', '.join(list(row['consequents']))\n",
    "\n",
    "        G.add_edge(antecedent, consequent, lift=row['lift'], support=row['support'], confidence=row['confidence'])\n",
    "\n",
    "    edge_lifts = [edge[2]['lift'] for edge in G.edges(data=True)]\n",
    "    \n",
    "    if edge_lifts:\n",
    "        norm = plt.Normalize(vmin=min(edge_lifts), vmax=max(edge_lifts))\n",
    "        edge_colors = [plt.cm.coolwarm(norm(lift_val)) for lift_val in edge_lifts]\n",
    "        edge_widths = [lift_val * 2 for lift_val in edge_lifts]\n",
    "\n",
    "        plt.figure(figsize=(18, 12))\n",
    "        pos = nx.spring_layout(G, k=0.8, iterations=50)\n",
    "\n",
    "        nx.draw_networkx_nodes(G, pos, node_size=3000, node_color='skyblue', alpha=0.9)\n",
    "        nx.draw_networkx_labels(G, pos, font_size=12, font_family='sans-serif')\n",
    "        nx.draw_networkx_edges(G, pos, width=edge_widths, arrowstyle='->', arrowsize=25,\n",
    "                               edge_color=edge_colors, alpha=0.7)\n",
    "\n",
    "        sm = plt.cm.ScalarMappable(cmap=plt.cm.coolwarm, norm=norm)\n",
    "        sm._A = []\n",
    "        cbar = plt.colorbar(sm, ax=plt.gca(), pad=0.05)\n",
    "        cbar.set_label('Lift Value of the Rule', rotation=270, labelpad=20, fontsize=12)\n",
    "\n",
    "        plt.title('Network Graph of Association Rules', fontsize=20)\n",
    "        plt.axis('off')\n",
    "        plt.tight_layout()\n",
    "        plt.show()\n",
    "    else:\n",
    "        print(\"The generated graph has no edges to draw.\")"
   ]
  },
  {
   "cell_type": "code",
   "execution_count": 180,
   "id": "27dbd562-6013-43c2-a798-d46f5347d606",
   "metadata": {},
   "outputs": [
    {
     "name": "stdout",
     "output_type": "stream",
     "text": [
      "Top 10 Association Rules (Sorted by Lift):\n",
      "\n",
      "            LHS          RHS  Support  Confidence      Lift\n",
      "16    [bourbon]   [sardines]    0.297    0.671946  1.470341\n",
      "12     [banana]    [bourbon]    0.220    0.606061  1.371178\n",
      "13    [bourbon]   [choclate]    0.204    0.461538  1.292825\n",
      "15    [bourbon]    [cracker]    0.201    0.454751  1.193573\n",
      "10    [avocado]    [cracker]    0.201    0.410204  1.076651\n",
      "18  [cosmetics]    [cracker]    0.211    0.393657  1.033220\n",
      "11    [avocado]   [sardines]    0.227    0.463265  1.013710\n",
      "8     [avocado]    [bourbon]    0.218    0.444898  1.006556\n",
      "0            []  [artichoke]    0.322    0.322000  1.000000\n",
      "1            []    [avocado]    0.490    0.490000  1.000000\n"
     ]
    }
   ],
   "source": [
    "import pandas as pd\n",
    "from apyori import apriori\n",
    "\n",
    "# Assuming 'transcations' is already defined from your data\n",
    "# This part of the code correctly extracts the rules and puts them into a DataFrame\n",
    "Rules = list(apriori(transcations, min_support=0.2, min_confidence=0.3))\n",
    "\n",
    "Rules_df = pd.DataFrame(\n",
    "    [\n",
    "        (\n",
    "            list(result[2][0][0]),  # antecedents\n",
    "            list(result[2][0][1]),  # consequents\n",
    "            result[1],              # support\n",
    "            result[2][0][2],        # confidence\n",
    "            result[2][0][3]         # lift\n",
    "        )\n",
    "        for result in Rules\n",
    "        if result[2]\n",
    "    ],\n",
    "    columns=['LHS', 'RHS', 'Support', 'Confidence', 'Lift']\n",
    ")\n",
    "\n",
    "# Sort and display the top 10 rules by Lift, as these are the most interesting\n",
    "print(\"Top 10 Association Rules (Sorted by Lift):\\n\")\n",
    "print(Rules_df.nlargest(10, 'Lift'))\n",
    "\n"
   ]
  },
  {
   "cell_type": "code",
   "execution_count": 181,
   "id": "0aedefae-18fa-4b88-93f1-798c19ecb73b",
   "metadata": {},
   "outputs": [
    {
     "name": "stdout",
     "output_type": "stream",
     "text": [
      "Missing values per column:\n",
      "apples       0\n",
      "banana       0\n",
      "coke         0\n",
      "turkey       0\n",
      "bourbon      0\n",
      "ice_cream    0\n",
      "baguette     0\n",
      "soda         0\n",
      "choclate     0\n",
      "cracker      0\n",
      "cosmetics    0\n",
      "avocado      0\n",
      "artichoke    0\n",
      "sardines     0\n",
      "dtype: int64\n",
      "\n",
      "\n"
     ]
    },
    {
     "data": {
      "image/png": "[encoded data removed]",
      "text/plain": [
       "<Figure size 1200x600 with 1 Axes>"
      ]
     },
     "metadata": {},
     "output_type": "display_data"
    }
   ],
   "source": [
    "# Assuming your DataFrame is named 'store_data'\n",
    "# Check for any missing values\n",
    "print(\"Missing values per column:\")\n",
    "print(store_data.isnull().sum())\n",
    "print(\"\\n\")\n",
    "\n",
    "# If you have any missing data, you can choose to handle it, for example:\n",
    "# store_data.fillna('No', inplace=True)\n",
    "\n",
    "# Prepare data for item popularity analysis\n",
    "item_counts = {}\n",
    "for column in store_data.columns:\n",
    "    yes_count = (store_data[column] == 'Yes').sum()\n",
    "    item_counts[column] = yes_count\n",
    "\n",
    "popularity_df = pd.DataFrame(item_counts.items(), columns=['Item', 'Purchase_Count'])\n",
    "popularity_df = popularity_df.sort_values(by='Purchase_Count', ascending=False)\n",
    "\n",
    "# Create a bar chart for item popularity\n",
    "plt.figure(figsize=(12, 6))\n",
    "plt.bar(popularity_df['Item'], popularity_df['Purchase_Count'], color='skyblue')\n",
    "plt.title('Most Popular Items', fontsize=16)\n",
    "plt.xlabel('Item', fontsize=12)\n",
    "plt.ylabel('Number of Transactions', fontsize=12)\n",
    "plt.xticks(rotation=45, ha='right')\n",
    "plt.grid(axis='y', linestyle='--', alpha=0.7)\n",
    "plt.show()\n"
   ]
  },
  {
   "cell_type": "code",
   "execution_count": null,
   "id": "e0df2de8-3402-4388-9b0b-11fe32e72aff",
   "metadata": {},
   "outputs": [],
   "source": []
  }
 ],
 "metadata": {
  "kernelspec": {
   "display_name": "Python [conda env:base] *",
   "language": "python",
   "name": "conda-base-py"
  },
  "language_info": {
   "codemirror_mode": {
    "name": "ipython",
    "version": 3
   },
   "file_extension": ".py",
   "mimetype": "text/x-python",
   "name": "python",
   "nbconvert_exporter": "python",
   "pygments_lexer": "ipython3",
   "version": "3.12.4"
  }
 },
 "nbformat": 4,
 "nbformat_minor": 5
}
